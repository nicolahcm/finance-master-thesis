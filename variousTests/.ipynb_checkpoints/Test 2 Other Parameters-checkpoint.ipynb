{
 "cells": [
  {
   "cell_type": "code",
   "execution_count": 1,
   "metadata": {},
   "outputs": [],
   "source": [
    "import pandas as pd\n",
    "import numpy as np\n",
    "import math"
   ]
  },
  {
   "cell_type": "markdown",
   "metadata": {},
   "source": [
    "# This has, at the end Euler Discretization Scheme. Note that if n is too big we cannot compute more psi**n.."
   ]
  },
  {
   "cell_type": "markdown",
   "metadata": {},
   "source": [
    "### Set Free Parameters\n",
    "\n",
    "Note this is a particular case. We chose epsilon high, and r_max low, because the coefficients are increasing. And after some point, python cannot compute them anymore as they go to inf. That's why r_max is low and epsilon high"
   ]
  },
  {
   "cell_type": "code",
   "execution_count": 2,
   "metadata": {},
   "outputs": [],
   "source": [
    "alpha = 0.64\n",
    "lambd = 0.2\n",
    "mu = -200\n",
    "nu = 200\n",
    "\n",
    "# error measures\n",
    "epsilon = 0.01\n",
    "theta = 0.9\n",
    "\n",
    "\n",
    "r_max = 105"
   ]
  },
  {
   "cell_type": "markdown",
   "metadata": {},
   "source": [
    "### This function returns the list of coefficients"
   ]
  },
  {
   "cell_type": "code",
   "execution_count": 3,
   "metadata": {},
   "outputs": [],
   "source": [
    "def returns_all_the_first_r_max_coefficients_as_list_2():\n",
    "    ''' Run this function. This returns the list of coefficients. Up to a_k where \n",
    "        k = r_max. '''\n",
    "    \n",
    "    coefficients = [np.nan]*(r_max+1)\n",
    "\n",
    "    a0 = 0 \n",
    "    a1 = nu/math.gamma(alpha+1)\n",
    "    coefficients[0] = a0\n",
    "    coefficients[1] = a1\n",
    "    \n",
    "    \n",
    "    def recursive_convol_coefficients(list_of_coefficients, k):\n",
    "        ''' return a*_k^2  given the first k-1 a_m coefficients. \n",
    "        k is the coefficient a^_k^2 to be returned'''\n",
    "        if k==1:\n",
    "            return 0\n",
    "        else: \n",
    "            sum = 0\n",
    "            for l in range(1,k):\n",
    "                a_l = list_of_coefficients[l]\n",
    "                a_k_l = list_of_coefficients[k-l]\n",
    "                sum += a_l*a_k_l\n",
    "            return sum\n",
    "    \n",
    "    \n",
    "    def recursive_coefficients(list_of_coefficients, n):\n",
    "        ''' Given the convoluted coefficient a_k_star_quadro, \n",
    "        Given also n, the coefficient a_n to be returned... Note that n = k+1 !!! \n",
    "        returns a_k'''\n",
    "        k = n-1 # n-1 = k\n",
    "        a_k_star_quadro = recursive_convol_coefficients(list_of_coefficients, k) \n",
    "        a_k = list_of_coefficients[k]  \n",
    "        a_n = (lambd*a_k_star_quadro + mu*a_k)*math.gamma(alpha*k + 1)/math.gamma(alpha*k + alpha + 1)\n",
    "    \n",
    "        return a_n\n",
    "\n",
    "    for i in range(2, r_max+1):\n",
    "        coefficients[i] = recursive_coefficients( coefficients, i)\n",
    "        \n",
    "    return coefficients"
   ]
  },
  {
   "cell_type": "code",
   "execution_count": 4,
   "metadata": {},
   "outputs": [],
   "source": [
    "coeff = returns_all_the_first_r_max_coefficients_as_list_2()\n",
    "#coeff"
   ]
  },
  {
   "cell_type": "code",
   "execution_count": 5,
   "metadata": {},
   "outputs": [],
   "source": [
    "### Poi posso stampare in un dataframe e metterlo nella tesi i risultati/ coefficienti"
   ]
  },
  {
   "cell_type": "markdown",
   "metadata": {},
   "source": [
    "# Some Tests For Coefficients: Useless For Thesis"
   ]
  },
  {
   "cell_type": "code",
   "execution_count": 6,
   "metadata": {},
   "outputs": [
    {
     "data": {
      "text/html": [
       "<div>\n",
       "<style scoped>\n",
       "    .dataframe tbody tr th:only-of-type {\n",
       "        vertical-align: middle;\n",
       "    }\n",
       "\n",
       "    .dataframe tbody tr th {\n",
       "        vertical-align: top;\n",
       "    }\n",
       "\n",
       "    .dataframe thead th {\n",
       "        text-align: right;\n",
       "    }\n",
       "</style>\n",
       "<table border=\"1\" class=\"dataframe\">\n",
       "  <thead>\n",
       "    <tr style=\"text-align: right;\">\n",
       "      <th></th>\n",
       "      <th>val</th>\n",
       "      <th>abs_val</th>\n",
       "    </tr>\n",
       "  </thead>\n",
       "  <tbody>\n",
       "    <tr>\n",
       "      <th>0</th>\n",
       "      <td>0.000000e+00</td>\n",
       "      <td>0.000000e+00</td>\n",
       "    </tr>\n",
       "    <tr>\n",
       "      <th>1</th>\n",
       "      <td>2.225580e+02</td>\n",
       "      <td>2.225580e+02</td>\n",
       "    </tr>\n",
       "    <tr>\n",
       "      <th>2</th>\n",
       "      <td>-3.469453e+04</td>\n",
       "      <td>3.469453e+04</td>\n",
       "    </tr>\n",
       "    <tr>\n",
       "      <th>3</th>\n",
       "      <td>4.307108e+06</td>\n",
       "      <td>4.307108e+06</td>\n",
       "    </tr>\n",
       "    <tr>\n",
       "      <th>4</th>\n",
       "      <td>-4.526010e+08</td>\n",
       "      <td>4.526010e+08</td>\n",
       "    </tr>\n",
       "    <tr>\n",
       "      <th>...</th>\n",
       "      <td>...</td>\n",
       "      <td>...</td>\n",
       "    </tr>\n",
       "    <tr>\n",
       "      <th>101</th>\n",
       "      <td>1.084779e+185</td>\n",
       "      <td>1.084779e+185</td>\n",
       "    </tr>\n",
       "    <tr>\n",
       "      <th>102</th>\n",
       "      <td>-7.123154e+186</td>\n",
       "      <td>7.123154e+186</td>\n",
       "    </tr>\n",
       "    <tr>\n",
       "      <th>103</th>\n",
       "      <td>4.677547e+188</td>\n",
       "      <td>4.677547e+188</td>\n",
       "    </tr>\n",
       "    <tr>\n",
       "      <th>104</th>\n",
       "      <td>-3.071697e+190</td>\n",
       "      <td>3.071697e+190</td>\n",
       "    </tr>\n",
       "    <tr>\n",
       "      <th>105</th>\n",
       "      <td>2.017218e+192</td>\n",
       "      <td>2.017218e+192</td>\n",
       "    </tr>\n",
       "  </tbody>\n",
       "</table>\n",
       "<p>106 rows × 2 columns</p>\n",
       "</div>"
      ],
      "text/plain": [
       "               val        abs_val\n",
       "0     0.000000e+00   0.000000e+00\n",
       "1     2.225580e+02   2.225580e+02\n",
       "2    -3.469453e+04   3.469453e+04\n",
       "3     4.307108e+06   4.307108e+06\n",
       "4    -4.526010e+08   4.526010e+08\n",
       "..             ...            ...\n",
       "101  1.084779e+185  1.084779e+185\n",
       "102 -7.123154e+186  7.123154e+186\n",
       "103  4.677547e+188  4.677547e+188\n",
       "104 -3.071697e+190  3.071697e+190\n",
       "105  2.017218e+192  2.017218e+192\n",
       "\n",
       "[106 rows x 2 columns]"
      ]
     },
     "execution_count": 6,
     "metadata": {},
     "output_type": "execute_result"
    }
   ],
   "source": [
    "coef_df = pd.DataFrame(coeff)\n",
    "coef_df = coef_df.rename(columns={0:\"val\"})\n",
    "coef_df['abs_val'] = coef_df.val.abs()\n",
    "coef_df"
   ]
  },
  {
   "cell_type": "code",
   "execution_count": 7,
   "metadata": {},
   "outputs": [
    {
     "data": {
      "text/html": [
       "<div>\n",
       "<style scoped>\n",
       "    .dataframe tbody tr th:only-of-type {\n",
       "        vertical-align: middle;\n",
       "    }\n",
       "\n",
       "    .dataframe tbody tr th {\n",
       "        vertical-align: top;\n",
       "    }\n",
       "\n",
       "    .dataframe thead th {\n",
       "        text-align: right;\n",
       "    }\n",
       "</style>\n",
       "<table border=\"1\" class=\"dataframe\">\n",
       "  <thead>\n",
       "    <tr style=\"text-align: right;\">\n",
       "      <th></th>\n",
       "      <th>abs_val</th>\n",
       "    </tr>\n",
       "  </thead>\n",
       "  <tbody>\n",
       "    <tr>\n",
       "      <th>76</th>\n",
       "      <td>65.590355</td>\n",
       "    </tr>\n",
       "    <tr>\n",
       "      <th>77</th>\n",
       "      <td>65.594224</td>\n",
       "    </tr>\n",
       "    <tr>\n",
       "      <th>78</th>\n",
       "      <td>65.597997</td>\n",
       "    </tr>\n",
       "    <tr>\n",
       "      <th>79</th>\n",
       "      <td>65.601677</td>\n",
       "    </tr>\n",
       "    <tr>\n",
       "      <th>80</th>\n",
       "      <td>65.605267</td>\n",
       "    </tr>\n",
       "    <tr>\n",
       "      <th>81</th>\n",
       "      <td>65.608771</td>\n",
       "    </tr>\n",
       "    <tr>\n",
       "      <th>82</th>\n",
       "      <td>65.612191</td>\n",
       "    </tr>\n",
       "    <tr>\n",
       "      <th>83</th>\n",
       "      <td>65.615531</td>\n",
       "    </tr>\n",
       "    <tr>\n",
       "      <th>84</th>\n",
       "      <td>65.618794</td>\n",
       "    </tr>\n",
       "    <tr>\n",
       "      <th>85</th>\n",
       "      <td>65.621981</td>\n",
       "    </tr>\n",
       "    <tr>\n",
       "      <th>86</th>\n",
       "      <td>65.625096</td>\n",
       "    </tr>\n",
       "    <tr>\n",
       "      <th>87</th>\n",
       "      <td>65.628141</td>\n",
       "    </tr>\n",
       "    <tr>\n",
       "      <th>88</th>\n",
       "      <td>65.631118</td>\n",
       "    </tr>\n",
       "    <tr>\n",
       "      <th>89</th>\n",
       "      <td>65.634030</td>\n",
       "    </tr>\n",
       "    <tr>\n",
       "      <th>90</th>\n",
       "      <td>65.636879</td>\n",
       "    </tr>\n",
       "    <tr>\n",
       "      <th>91</th>\n",
       "      <td>65.639667</td>\n",
       "    </tr>\n",
       "    <tr>\n",
       "      <th>92</th>\n",
       "      <td>65.642395</td>\n",
       "    </tr>\n",
       "    <tr>\n",
       "      <th>93</th>\n",
       "      <td>65.645066</td>\n",
       "    </tr>\n",
       "    <tr>\n",
       "      <th>94</th>\n",
       "      <td>65.647681</td>\n",
       "    </tr>\n",
       "    <tr>\n",
       "      <th>95</th>\n",
       "      <td>65.650242</td>\n",
       "    </tr>\n",
       "    <tr>\n",
       "      <th>96</th>\n",
       "      <td>65.652751</td>\n",
       "    </tr>\n",
       "    <tr>\n",
       "      <th>97</th>\n",
       "      <td>65.655209</td>\n",
       "    </tr>\n",
       "    <tr>\n",
       "      <th>98</th>\n",
       "      <td>65.657618</td>\n",
       "    </tr>\n",
       "    <tr>\n",
       "      <th>99</th>\n",
       "      <td>65.659980</td>\n",
       "    </tr>\n",
       "    <tr>\n",
       "      <th>100</th>\n",
       "      <td>65.662295</td>\n",
       "    </tr>\n",
       "    <tr>\n",
       "      <th>101</th>\n",
       "      <td>65.664565</td>\n",
       "    </tr>\n",
       "    <tr>\n",
       "      <th>102</th>\n",
       "      <td>65.666791</td>\n",
       "    </tr>\n",
       "    <tr>\n",
       "      <th>103</th>\n",
       "      <td>65.668975</td>\n",
       "    </tr>\n",
       "    <tr>\n",
       "      <th>104</th>\n",
       "      <td>65.671118</td>\n",
       "    </tr>\n",
       "    <tr>\n",
       "      <th>105</th>\n",
       "      <td>NaN</td>\n",
       "    </tr>\n",
       "  </tbody>\n",
       "</table>\n",
       "</div>"
      ],
      "text/plain": [
       "       abs_val\n",
       "76   65.590355\n",
       "77   65.594224\n",
       "78   65.597997\n",
       "79   65.601677\n",
       "80   65.605267\n",
       "81   65.608771\n",
       "82   65.612191\n",
       "83   65.615531\n",
       "84   65.618794\n",
       "85   65.621981\n",
       "86   65.625096\n",
       "87   65.628141\n",
       "88   65.631118\n",
       "89   65.634030\n",
       "90   65.636879\n",
       "91   65.639667\n",
       "92   65.642395\n",
       "93   65.645066\n",
       "94   65.647681\n",
       "95   65.650242\n",
       "96   65.652751\n",
       "97   65.655209\n",
       "98   65.657618\n",
       "99   65.659980\n",
       "100  65.662295\n",
       "101  65.664565\n",
       "102  65.666791\n",
       "103  65.668975\n",
       "104  65.671118\n",
       "105        NaN"
      ]
     },
     "execution_count": 7,
     "metadata": {},
     "output_type": "execute_result"
    }
   ],
   "source": [
    "pd.DataFrame(coef_df.shift(-1).abs_val/coef_df.abs_val).tail(30)"
   ]
  },
  {
   "cell_type": "markdown",
   "metadata": {},
   "source": [
    "# Estimating the radius of convergence"
   ]
  },
  {
   "cell_type": "markdown",
   "metadata": {},
   "source": [
    "### A plot"
   ]
  },
  {
   "cell_type": "code",
   "execution_count": 8,
   "metadata": {},
   "outputs": [
    {
     "name": "stderr",
     "output_type": "stream",
     "text": [
      "/home/nicola/anaconda3/lib/python3.7/site-packages/pandas/core/series.py:726: RuntimeWarning: divide by zero encountered in log\n",
      "  result = getattr(ufunc, method)(*inputs, **kwargs)\n"
     ]
    },
    {
     "data": {
      "image/png": "[encoded data removed]",
      "text/plain": [
       "<Figure size 720x432 with 1 Axes>"
      ]
     },
     "metadata": {
      "needs_background": "light"
     },
     "output_type": "display_data"
    }
   ],
   "source": [
    "### DO NOT RUN THIS. IT IS A PLOT FOR THE THESIS\n",
    "\n",
    "ott = pd.DataFrame({ \"k\": [i for i in range(0,106)], \"a_k\": coeff}).set_index('k')\n",
    "\n",
    "ott['c'] = np.log(np.abs(ott['a_k']))\n",
    "\n",
    "plot = ott['c'].plot( ylabel= \"log(|a_k|)\", title= \"f(k) = log(|a_k|)\")\n",
    "\n",
    "fig = plot.get_figure()\n",
    "fig.set_size_inches(10, 6)\n",
    "fig.savefig(\"output.png\", dpi=200)"
   ]
  },
  {
   "cell_type": "code",
   "execution_count": 9,
   "metadata": {},
   "outputs": [
    {
     "data": {
      "text/plain": [
       "0.001406484830030425"
      ]
     },
     "execution_count": 9,
     "metadata": {},
     "output_type": "execute_result"
    }
   ],
   "source": [
    "a_r_max = coeff[-1]\n",
    "a_primo_r_max = a_r_max*math.gamma(alpha*r_max+1)/(math.gamma(alpha*r_max-alpha+1)*(alpha*r_max+1-alpha))\n",
    "\n",
    "R_estimate = abs(a_primo_r_max)**(-1/(alpha*r_max))\n",
    "R_estimate"
   ]
  },
  {
   "cell_type": "code",
   "execution_count": 10,
   "metadata": {
    "scrolled": true
   },
   "outputs": [
    {
     "data": {
      "text/plain": [
       "0.003968253968253968"
      ]
     },
     "execution_count": 10,
     "metadata": {},
     "output_type": "execute_result"
    }
   ],
   "source": [
    "T = 1/252  ## We will need to use the hybrid, since t= 1/252 è più grande di R_estimate!!\n",
    "T"
   ]
  },
  {
   "cell_type": "markdown",
   "metadata": {},
   "source": [
    "### Computing where should we truncate"
   ]
  },
  {
   "cell_type": "code",
   "execution_count": 11,
   "metadata": {},
   "outputs": [
    {
     "data": {
      "text/plain": [
       "102"
      ]
     },
     "execution_count": 11,
     "metadata": {},
     "output_type": "execute_result"
    }
   ],
   "source": [
    "r_0 = math.log(epsilon*(1-theta))/alpha/math.log(theta)-1\n",
    "r_0 = int(np.round(r_0)+1)\n",
    "r_0            ### Hey but this r_0 is independent by n. In fact,\n",
    "               # We should be fix first n, then compute theta_n(n) (defined below),\n",
    "               # Only then we can compute r_0, and therefore the truncated coefficients!!!"
   ]
  },
  {
   "cell_type": "code",
   "execution_count": 12,
   "metadata": {},
   "outputs": [],
   "source": [
    "slicing = slice(0,r_0)\n",
    "\n",
    "coeff_truncated = coeff[slicing]"
   ]
  },
  {
   "cell_type": "markdown",
   "metadata": {},
   "source": [
    "## Euler Scheme"
   ]
  },
  {
   "cell_type": "code",
   "execution_count": 13,
   "metadata": {},
   "outputs": [],
   "source": [
    "### We use the theta function defined in 4.6\n",
    "## IN Truth we set it always fixed to 0.9. Because, anyways, we do not care much for low values of n\n"
   ]
  },
  {
   "cell_type": "code",
   "execution_count": 14,
   "metadata": {},
   "outputs": [],
   "source": [
    "# We won't be using this in the first exercise, but maybe in the next exercises we will need it\n",
    "\n",
    "def theta_n(n):\n",
    "    ''' Theta in function of n '''\n",
    "    if n<16:\n",
    "        return 0.5\n",
    "    if n<32:\n",
    "        return 0.65\n",
    "    if n>4096:\n",
    "        return 0.925\n",
    "    else:\n",
    "        return min(0.65+ 0.3*((n-32)/4064)**0.25  ,0.925)"
   ]
  },
  {
   "cell_type": "markdown",
   "metadata": {},
   "source": [
    "For convenience we will compute r_0 with a theta fixed (theta = 0.9). Why this?\n",
    " Because the value of r_0 changes basing on theta. And, as we observed, if r_0 is too big,\n",
    "It might be that we don't have enough coefficients. Since in this case the coefficients go to infinity,\n",
    " We want to be sure we stay below the threshold. So we use a theta fixed, even for different n's values!"
   ]
  },
  {
   "cell_type": "code",
   "execution_count": 15,
   "metadata": {},
   "outputs": [
    {
     "data": {
      "text/plain": [
       "11.401827625012281"
      ]
     },
     "execution_count": 15,
     "metadata": {},
     "output_type": "execute_result"
    }
   ],
   "source": [
    "def poly(lst, x):   \n",
    "    ''' Evaluate the polynomial with coefficients lst= [a0,a1,a2,...] in x\n",
    "    Pol: a0 + a1*x**alpha + a2*x**(2*alpha) + .... '''\n",
    "    n, tmp = 0, 0\n",
    "    for a in lst:\n",
    "        tmp = tmp + (a * (x**(n*alpha)))\n",
    "        n += 1\n",
    "\n",
    "    return tmp\n",
    "\n",
    "poly([1,2,3], 2)  # 1 + 2*2 + 3*4 "
   ]
  },
  {
   "cell_type": "code",
   "execution_count": 17,
   "metadata": {},
   "outputs": [],
   "source": [
    "def computing_psi_n(n):\n",
    "    ''' Just Give n. This function makes use of the parameters. Then also of the list \"coeff_truncated\" \n",
    "    '''\n",
    "    \n",
    "    disc_times = [k*T/n for k in range(0,n+1)]\n",
    "    \n",
    "    theta = 0.9\n",
    "    #theta = theta_n(n) # Only In This Example, Because The Theta fixed at the beginning would go out otherwise!\n",
    "    \n",
    "    \n",
    "    \n",
    "    k_0 = math.floor(R_estimate*theta*n/T)  ### Up to t_k_0 we will use truncated series. Then Euler Schema\n",
    "    \n",
    "    t_k_0 = disc_times[k_0]\n",
    "    \n",
    "    \n",
    "    values_assumed_in_disc_times = [np.nan]*(n+1)\n",
    "    \n",
    "    \n",
    "    ### Here We Evaluate The Truncated Series!\n",
    "    for k in range(0,k_0+1):\n",
    "        values_assumed_in_disc_times[k] = poly(coeff_truncated, disc_times[k])\n",
    "    \n",
    "    \n",
    "    ### Here Instead We Use The Euler Scheme\n",
    "    def compute_c_i(alpha, l):\n",
    "        if l == 0:\n",
    "            return 1\n",
    "        else: \n",
    "            return (l+1)**alpha - l**alpha\n",
    "    \n",
    "    \n",
    "    \n",
    "    for k in range(k_0+1, n+1):\n",
    "        factor_1 = 1/math.gamma(alpha + 1)*(T/n)**alpha\n",
    "        addend_2 = nu*k**alpha \n",
    "        addend_3 = 0\n",
    "        for l in range(1,k):\n",
    "            psi_n_t_l = values_assumed_in_disc_times[l]\n",
    "            addend_3 += compute_c_i(alpha, k-l-1)*psi_n_t_l*(lambd*psi_n_t_l + mu)\n",
    "        \n",
    "        factor_2 = addend_2 + addend_3\n",
    "        \n",
    "        result = factor_1*factor_2\n",
    "        \n",
    "        values_assumed_in_disc_times[k] = result\n",
    "            \n",
    "    \n",
    "    print(\"t_k0=\", t_k_0)\n",
    "    \n",
    "    #return disc_times, values_assumed_in_disc_times\n",
    "    return pd.DataFrame({\"time\": disc_times, \"value\": values_assumed_in_disc_times}), t_k_0\n",
    "    "
   ]
  },
  {
   "cell_type": "markdown",
   "metadata": {},
   "source": [
    "# Plots Do not run the followings. These are for the thesis"
   ]
  },
  {
   "cell_type": "code",
   "execution_count": 18,
   "metadata": {
    "scrolled": true
   },
   "outputs": [
    {
     "name": "stdout",
     "output_type": "stream",
     "text": [
      "t_k0= 0.001240079365079365\n",
      "t_k0= 0.001240079365079365\n"
     ]
    },
    {
     "data": {
      "image/png": "[encoded data removed]",
      "text/plain": [
       "<Figure size 936x576 with 1 Axes>"
      ]
     },
     "metadata": {
      "needs_background": "light"
     },
     "output_type": "display_data"
    }
   ],
   "source": [
    "plot = computing_psi_n(32)[0].set_index('time').plot( marker=\"x\", linewidth=0)\n",
    "tk0 = computing_psi_n(32)[1]\n",
    "\n",
    "plot.axvline(x = tk0, linewidth=1, color='r')\n",
    "plot.text(tk0,0.7,\"t_k0\",rotation=0, fontsize= 20, color=\"r\")\n",
    "\n",
    "\n",
    "fig = plot.get_figure()\n",
    "fig.set_size_inches(13, 8)"
   ]
  },
  {
   "cell_type": "code",
   "execution_count": 19,
   "metadata": {},
   "outputs": [],
   "source": [
    "def plot_psi_n(n, nameToSave):\n",
    "    df, tk0 = computing_psi_n(n)\n",
    "    \n",
    "    plot = df.set_index('time').plot( marker=\"x\", linewidth=0, title = nameToSave[:-4])\n",
    "\n",
    "    plot.axvline(x = tk0, linewidth=1, color='r')\n",
    "    plot.text(tk0, 0.8, \"t_k0\", rotation=0, fontsize= 20, color=\"r\")\n",
    "    plot.set_ylim=([0,1.2])\n",
    "\n",
    "\n",
    "    fig = plot.get_figure()\n",
    "    fig.set_size_inches(13, 8)\n",
    "    fig.savefig(nameToSave, dpi=100)"
   ]
  },
  {
   "cell_type": "code",
   "execution_count": 20,
   "metadata": {
    "scrolled": true
   },
   "outputs": [
    {
     "name": "stdout",
     "output_type": "stream",
     "text": [
      "t_k0= 0.001263330853174603\n"
     ]
    },
    {
     "data": {
      "image/png": "[encoded data removed]",
      "text/plain": [
       "<Figure size 936x576 with 1 Axes>"
      ]
     },
     "metadata": {
      "needs_background": "light"
     },
     "output_type": "display_data"
    }
   ],
   "source": [
    "plot_psi_n(512, \"n = 512.png\")"
   ]
  },
  {
   "cell_type": "markdown",
   "metadata": {},
   "source": [
    "# Experiment nr. 2 Computing c_1(n)  "
   ]
  },
  {
   "cell_type": "code",
   "execution_count": 21,
   "metadata": {},
   "outputs": [],
   "source": [
    "def c_1(n):\n",
    "    return 2*n*(computing_psi_n(n)[0].iloc[-1].value - computing_psi_n(2*n)[0].iloc[-1].value)"
   ]
  },
  {
   "cell_type": "code",
   "execution_count": 22,
   "metadata": {
    "scrolled": true
   },
   "outputs": [
    {
     "name": "stdout",
     "output_type": "stream",
     "text": [
      "t_k0= 0.0012652684771825395\n",
      "t_k0= 0.0012652684771825395\n"
     ]
    },
    {
     "data": {
      "text/plain": [
       "0.1343138004122011"
      ]
     },
     "execution_count": 22,
     "metadata": {},
     "output_type": "execute_result"
    }
   ],
   "source": [
    "c_1(2048)"
   ]
  },
  {
   "cell_type": "code",
   "execution_count": 23,
   "metadata": {},
   "outputs": [],
   "source": [
    "powers_of_two = [2**i for i in range(0,15)]"
   ]
  },
  {
   "cell_type": "markdown",
   "metadata": {},
   "source": [
    "computing c1 for various n and seeing the time that it takes."
   ]
  },
  {
   "cell_type": "code",
   "execution_count": 24,
   "metadata": {},
   "outputs": [],
   "source": [
    "# c_1_ns = [c_1(i) for i in powers_of_two]\n",
    "\n",
    "# pd.DataFrame(c_1_ns).to_csv('c1ns.csv')\n",
    "\n"
   ]
  },
  {
   "cell_type": "code",
   "execution_count": 25,
   "metadata": {},
   "outputs": [
    {
     "data": {
      "text/html": [
       "<div>\n",
       "<style scoped>\n",
       "    .dataframe tbody tr th:only-of-type {\n",
       "        vertical-align: middle;\n",
       "    }\n",
       "\n",
       "    .dataframe tbody tr th {\n",
       "        vertical-align: top;\n",
       "    }\n",
       "\n",
       "    .dataframe thead th {\n",
       "        text-align: right;\n",
       "    }\n",
       "</style>\n",
       "<table border=\"1\" class=\"dataframe\">\n",
       "  <thead>\n",
       "    <tr style=\"text-align: right;\">\n",
       "      <th></th>\n",
       "      <th>c1^n</th>\n",
       "    </tr>\n",
       "    <tr>\n",
       "      <th>n</th>\n",
       "      <th></th>\n",
       "    </tr>\n",
       "  </thead>\n",
       "  <tbody>\n",
       "    <tr>\n",
       "      <th>1</th>\n",
       "      <td>34.276782</td>\n",
       "    </tr>\n",
       "    <tr>\n",
       "      <th>2</th>\n",
       "      <td>-64.716952</td>\n",
       "    </tr>\n",
       "    <tr>\n",
       "      <th>4</th>\n",
       "      <td>45.992298</td>\n",
       "    </tr>\n",
       "    <tr>\n",
       "      <th>8</th>\n",
       "      <td>-18.911034</td>\n",
       "    </tr>\n",
       "    <tr>\n",
       "      <th>16</th>\n",
       "      <td>0.262637</td>\n",
       "    </tr>\n",
       "    <tr>\n",
       "      <th>32</th>\n",
       "      <td>0.161077</td>\n",
       "    </tr>\n",
       "    <tr>\n",
       "      <th>64</th>\n",
       "      <td>0.151405</td>\n",
       "    </tr>\n",
       "    <tr>\n",
       "      <th>128</th>\n",
       "      <td>0.143325</td>\n",
       "    </tr>\n",
       "    <tr>\n",
       "      <th>256</th>\n",
       "      <td>0.140296</td>\n",
       "    </tr>\n",
       "    <tr>\n",
       "      <th>512</th>\n",
       "      <td>0.137850</td>\n",
       "    </tr>\n",
       "    <tr>\n",
       "      <th>1024</th>\n",
       "      <td>0.135780</td>\n",
       "    </tr>\n",
       "    <tr>\n",
       "      <th>2048</th>\n",
       "      <td>0.134314</td>\n",
       "    </tr>\n",
       "    <tr>\n",
       "      <th>4096</th>\n",
       "      <td>0.133632</td>\n",
       "    </tr>\n",
       "    <tr>\n",
       "      <th>8192</th>\n",
       "      <td>0.132789</td>\n",
       "    </tr>\n",
       "    <tr>\n",
       "      <th>16384</th>\n",
       "      <td>0.132394</td>\n",
       "    </tr>\n",
       "  </tbody>\n",
       "</table>\n",
       "</div>"
      ],
      "text/plain": [
       "            c1^n\n",
       "n               \n",
       "1      34.276782\n",
       "2     -64.716952\n",
       "4      45.992298\n",
       "8     -18.911034\n",
       "16      0.262637\n",
       "32      0.161077\n",
       "64      0.151405\n",
       "128     0.143325\n",
       "256     0.140296\n",
       "512     0.137850\n",
       "1024    0.135780\n",
       "2048    0.134314\n",
       "4096    0.133632\n",
       "8192    0.132789\n",
       "16384   0.132394"
      ]
     },
     "execution_count": 25,
     "metadata": {},
     "output_type": "execute_result"
    }
   ],
   "source": [
    "c_1_ns = pd.read_csv(\"c1ns.csv\")\n",
    "c_1_ns['powers_2'] = [2**i for i in range(0,15)]\n",
    "c_1_ns = c_1_ns.rename(columns={\"0\":\"c1^n\", \"powers_2\":\"n\"})[[\"c1^n\", \"n\"]].set_index('n')\n",
    "c_1_ns"
   ]
  },
  {
   "cell_type": "code",
   "execution_count": 26,
   "metadata": {},
   "outputs": [
    {
     "data": {
      "text/plain": [
       "<matplotlib.axes._subplots.AxesSubplot at 0x7f5ca7d02668>"
      ]
     },
     "execution_count": 26,
     "metadata": {},
     "output_type": "execute_result"
    },
    {
     "data": {
      "image/png": "[encoded data removed]",
      "text/plain": [
       "<Figure size 432x288 with 1 Axes>"
      ]
     },
     "metadata": {
      "needs_background": "light"
     },
     "output_type": "display_data"
    }
   ],
   "source": [
    "pd.DataFrame(c_1_ns).plot()"
   ]
  },
  {
   "cell_type": "markdown",
   "metadata": {},
   "source": [
    "# DONT RUN THIS!!\n",
    "\n",
    "import time\n",
    "start_time = time.time()\n",
    "\n",
    "#c_1(4096*2)\n",
    "\n",
    "print(\"--- %s seconds ---\" % (time.time() - start_time))\n",
    "\n",
    "\n",
    "\n",
    "df_ci_times = {}\n",
    "df_ci_values = {}\n",
    "\n",
    "#for i in [4,8,16,32,64,128,256,512,1024,2048,4096, 4096*2]:\n",
    "    \n",
    "#    start_time = time.time()\n",
    "#    df_ci_values[i] = c_1(i)\n",
    "#    df_ci_times[i] = time.time() - start_time\n",
    "\n",
    "final = pd.DataFrame({\"n\": [key for key in df_ci_times], \"c_n\": [df_ci_values[key] for key in df_ci_values], \"comput_time -sec-\": [df_ci_times[key] for key in df_ci_times]})\n",
    "\n",
    "final = final.set_index(\"n\")\n",
    "final\n",
    "\n",
    "final['comput_time_rapport'] = final['comput_time -sec-']/final['comput_time -sec-'].shift(1)\n",
    "\n",
    "final\n",
    "\n",
    "#final.to_csv('up_to_4096times8.csv')"
   ]
  },
  {
   "cell_type": "markdown",
   "metadata": {},
   "source": [
    "final.to_csv('up_to_4096times2.csv')"
   ]
  },
  {
   "cell_type": "code",
   "execution_count": 27,
   "metadata": {},
   "outputs": [
    {
     "data": {
      "text/html": [
       "<div>\n",
       "<style scoped>\n",
       "    .dataframe tbody tr th:only-of-type {\n",
       "        vertical-align: middle;\n",
       "    }\n",
       "\n",
       "    .dataframe tbody tr th {\n",
       "        vertical-align: top;\n",
       "    }\n",
       "\n",
       "    .dataframe thead th {\n",
       "        text-align: right;\n",
       "    }\n",
       "</style>\n",
       "<table border=\"1\" class=\"dataframe\">\n",
       "  <thead>\n",
       "    <tr style=\"text-align: right;\">\n",
       "      <th></th>\n",
       "      <th>c_n</th>\n",
       "      <th>comput_time -sec-</th>\n",
       "      <th>comput_time_rapport</th>\n",
       "    </tr>\n",
       "    <tr>\n",
       "      <th>n</th>\n",
       "      <th></th>\n",
       "      <th></th>\n",
       "      <th></th>\n",
       "    </tr>\n",
       "  </thead>\n",
       "  <tbody>\n",
       "    <tr>\n",
       "      <th>4</th>\n",
       "      <td>45.992298</td>\n",
       "      <td>0.000978</td>\n",
       "      <td>NaN</td>\n",
       "    </tr>\n",
       "    <tr>\n",
       "      <th>8</th>\n",
       "      <td>-18.911034</td>\n",
       "      <td>0.001066</td>\n",
       "      <td>1.089956</td>\n",
       "    </tr>\n",
       "    <tr>\n",
       "      <th>16</th>\n",
       "      <td>0.262637</td>\n",
       "      <td>0.001241</td>\n",
       "      <td>1.164169</td>\n",
       "    </tr>\n",
       "    <tr>\n",
       "      <th>32</th>\n",
       "      <td>0.161077</td>\n",
       "      <td>0.002010</td>\n",
       "      <td>1.619789</td>\n",
       "    </tr>\n",
       "    <tr>\n",
       "      <th>64</th>\n",
       "      <td>0.151405</td>\n",
       "      <td>0.004920</td>\n",
       "      <td>2.447515</td>\n",
       "    </tr>\n",
       "    <tr>\n",
       "      <th>128</th>\n",
       "      <td>0.143325</td>\n",
       "      <td>0.016612</td>\n",
       "      <td>3.376496</td>\n",
       "    </tr>\n",
       "    <tr>\n",
       "      <th>256</th>\n",
       "      <td>0.140296</td>\n",
       "      <td>0.057853</td>\n",
       "      <td>3.482662</td>\n",
       "    </tr>\n",
       "    <tr>\n",
       "      <th>512</th>\n",
       "      <td>0.137850</td>\n",
       "      <td>0.225938</td>\n",
       "      <td>3.905420</td>\n",
       "    </tr>\n",
       "    <tr>\n",
       "      <th>1024</th>\n",
       "      <td>0.135780</td>\n",
       "      <td>0.904298</td>\n",
       "      <td>4.002411</td>\n",
       "    </tr>\n",
       "    <tr>\n",
       "      <th>2048</th>\n",
       "      <td>0.134314</td>\n",
       "      <td>3.672320</td>\n",
       "      <td>4.060962</td>\n",
       "    </tr>\n",
       "    <tr>\n",
       "      <th>4096</th>\n",
       "      <td>0.133632</td>\n",
       "      <td>14.989243</td>\n",
       "      <td>4.081682</td>\n",
       "    </tr>\n",
       "    <tr>\n",
       "      <th>8192</th>\n",
       "      <td>0.132789</td>\n",
       "      <td>60.255214</td>\n",
       "      <td>4.019897</td>\n",
       "    </tr>\n",
       "  </tbody>\n",
       "</table>\n",
       "</div>"
      ],
      "text/plain": [
       "            c_n  comput_time -sec-  comput_time_rapport\n",
       "n                                                      \n",
       "4     45.992298           0.000978                  NaN\n",
       "8    -18.911034           0.001066             1.089956\n",
       "16     0.262637           0.001241             1.164169\n",
       "32     0.161077           0.002010             1.619789\n",
       "64     0.151405           0.004920             2.447515\n",
       "128    0.143325           0.016612             3.376496\n",
       "256    0.140296           0.057853             3.482662\n",
       "512    0.137850           0.225938             3.905420\n",
       "1024   0.135780           0.904298             4.002411\n",
       "2048   0.134314           3.672320             4.060962\n",
       "4096   0.133632          14.989243             4.081682\n",
       "8192   0.132789          60.255214             4.019897"
      ]
     },
     "execution_count": 27,
     "metadata": {},
     "output_type": "execute_result"
    }
   ],
   "source": [
    "final = pd.read_csv('up_to_4096times2.csv')\n",
    "final.set_index('n')"
   ]
  },
  {
   "cell_type": "code",
   "execution_count": 28,
   "metadata": {},
   "outputs": [
    {
     "data": {
      "text/html": [
       "<div>\n",
       "<style scoped>\n",
       "    .dataframe tbody tr th:only-of-type {\n",
       "        vertical-align: middle;\n",
       "    }\n",
       "\n",
       "    .dataframe tbody tr th {\n",
       "        vertical-align: top;\n",
       "    }\n",
       "\n",
       "    .dataframe thead th {\n",
       "        text-align: right;\n",
       "    }\n",
       "</style>\n",
       "<table border=\"1\" class=\"dataframe\">\n",
       "  <thead>\n",
       "    <tr style=\"text-align: right;\">\n",
       "      <th></th>\n",
       "      <th>c_n</th>\n",
       "    </tr>\n",
       "    <tr>\n",
       "      <th>n</th>\n",
       "      <th></th>\n",
       "    </tr>\n",
       "  </thead>\n",
       "  <tbody>\n",
       "    <tr>\n",
       "      <th>8</th>\n",
       "      <td>-18.911034</td>\n",
       "    </tr>\n",
       "    <tr>\n",
       "      <th>16</th>\n",
       "      <td>0.262637</td>\n",
       "    </tr>\n",
       "    <tr>\n",
       "      <th>32</th>\n",
       "      <td>0.161077</td>\n",
       "    </tr>\n",
       "    <tr>\n",
       "      <th>64</th>\n",
       "      <td>0.151405</td>\n",
       "    </tr>\n",
       "    <tr>\n",
       "      <th>128</th>\n",
       "      <td>0.143325</td>\n",
       "    </tr>\n",
       "    <tr>\n",
       "      <th>256</th>\n",
       "      <td>0.140296</td>\n",
       "    </tr>\n",
       "    <tr>\n",
       "      <th>512</th>\n",
       "      <td>0.137850</td>\n",
       "    </tr>\n",
       "    <tr>\n",
       "      <th>1024</th>\n",
       "      <td>0.135780</td>\n",
       "    </tr>\n",
       "    <tr>\n",
       "      <th>2048</th>\n",
       "      <td>0.134314</td>\n",
       "    </tr>\n",
       "    <tr>\n",
       "      <th>4096</th>\n",
       "      <td>0.133632</td>\n",
       "    </tr>\n",
       "    <tr>\n",
       "      <th>8192</th>\n",
       "      <td>0.132789</td>\n",
       "    </tr>\n",
       "  </tbody>\n",
       "</table>\n",
       "</div>"
      ],
      "text/plain": [
       "            c_n\n",
       "n              \n",
       "8    -18.911034\n",
       "16     0.262637\n",
       "32     0.161077\n",
       "64     0.151405\n",
       "128    0.143325\n",
       "256    0.140296\n",
       "512    0.137850\n",
       "1024   0.135780\n",
       "2048   0.134314\n",
       "4096   0.133632\n",
       "8192   0.132789"
      ]
     },
     "execution_count": 28,
     "metadata": {},
     "output_type": "execute_result"
    }
   ],
   "source": [
    "final[[\"n\",'c_n']].set_index('n').iloc[1:]"
   ]
  },
  {
   "cell_type": "code",
   "execution_count": 29,
   "metadata": {},
   "outputs": [
    {
     "data": {
      "image/png": "[encoded data removed]",
      "text/plain": [
       "<Figure size 936x576 with 1 Axes>"
      ]
     },
     "metadata": {
      "needs_background": "light"
     },
     "output_type": "display_data"
    }
   ],
   "source": [
    "plot = final[[\"n\",'c_n']].set_index('n').plot( marker=\"o\")\n",
    "fig = plot.get_figure()\n",
    "\n",
    "fig.set_size_inches(13, 8)\n",
    "fig.suptitle('f(n) = c_1^n', fontsize=30)    # SET BIG TITLE\n",
    "plot.set_xlabel('n', fontsize=18)\n",
    "plot.set_ylabel('c_1^n', fontsize=16)\n",
    "fig.savefig('c_1^n', dpi=200)\n"
   ]
  },
  {
   "cell_type": "code",
   "execution_count": 30,
   "metadata": {},
   "outputs": [
    {
     "name": "stderr",
     "output_type": "stream",
     "text": [
      "/home/nicola/anaconda3/lib/python3.7/site-packages/pandas/core/series.py:726: RuntimeWarning: invalid value encountered in log\n",
      "  result = getattr(ufunc, method)(*inputs, **kwargs)\n"
     ]
    }
   ],
   "source": [
    "final = final.reset_index()\n",
    "final['log(n) '] = np.log(final['n'])\n",
    "\n",
    "cref = 196.510382\n",
    "\n",
    "final['cn-cref'] = final['c_n'] - cref\n",
    "\n",
    "final['log(cn-cref) '] = np.log(final['cn-cref'])\n",
    "\n",
    "final_log = final.iloc[:-1].set_index('log(n) ')"
   ]
  },
  {
   "cell_type": "code",
   "execution_count": 31,
   "metadata": {
    "scrolled": true
   },
   "outputs": [
    {
     "data": {
      "image/png": "[encoded data removed]",
      "text/plain": [
       "<Figure size 936x576 with 1 Axes>"
      ]
     },
     "metadata": {
      "needs_background": "light"
     },
     "output_type": "display_data"
    }
   ],
   "source": [
    "plot = final_log['log(cn-cref) '].plot(marker=\"o\")\n",
    "\n",
    "fig = plot.get_figure()\n",
    "\n",
    "fig.set_size_inches(13, 8)\n",
    "fig.suptitle('log-log', fontsize=30)    # SET BIG TITLE\n",
    "plot.set_xlabel('log(n) ', fontsize=18)\n",
    "plot.set_ylabel('log(c_1^n-c_1^ref) ', fontsize=16)\n",
    "fig.savefig('c_1log', dpi=200)"
   ]
  },
  {
   "cell_type": "markdown",
   "metadata": {},
   "source": [
    "## Linear Regression"
   ]
  },
  {
   "cell_type": "code",
   "execution_count": 32,
   "metadata": {},
   "outputs": [
    {
     "ename": "ValueError",
     "evalue": "Input contains NaN, infinity or a value too large for dtype('float64').",
     "output_type": "error",
     "traceback": [
      "\u001b[0;31m---------------------------------------------------------------------------\u001b[0m",
      "\u001b[0;31mValueError\u001b[0m                                Traceback (most recent call last)",
      "\u001b[0;32m<ipython-input-32-2c2b16b1f830>\u001b[0m in \u001b[0;36m<module>\u001b[0;34m\u001b[0m\n\u001b[1;32m      6\u001b[0m \u001b[0mx\u001b[0m \u001b[0;34m=\u001b[0m \u001b[0mx\u001b[0m\u001b[0;34m.\u001b[0m\u001b[0mreshape\u001b[0m\u001b[0;34m(\u001b[0m\u001b[0;34m-\u001b[0m\u001b[0;36m1\u001b[0m\u001b[0;34m,\u001b[0m\u001b[0;36m1\u001b[0m\u001b[0;34m)\u001b[0m\u001b[0;34m\u001b[0m\u001b[0m\n\u001b[1;32m      7\u001b[0m \u001b[0;34m\u001b[0m\u001b[0m\n\u001b[0;32m----> 8\u001b[0;31m \u001b[0mreg\u001b[0m \u001b[0;34m=\u001b[0m \u001b[0mLinearRegression\u001b[0m\u001b[0;34m(\u001b[0m\u001b[0;34m)\u001b[0m\u001b[0;34m.\u001b[0m\u001b[0mfit\u001b[0m\u001b[0;34m(\u001b[0m\u001b[0mx\u001b[0m\u001b[0;34m,\u001b[0m \u001b[0my\u001b[0m\u001b[0;34m.\u001b[0m\u001b[0mvalues\u001b[0m\u001b[0;34m)\u001b[0m\u001b[0;34m\u001b[0m\u001b[0m\n\u001b[0m",
      "\u001b[0;32m~/anaconda3/lib/python3.7/site-packages/sklearn/linear_model/_base.py\u001b[0m in \u001b[0;36mfit\u001b[0;34m(self, X, y, sample_weight)\u001b[0m\n\u001b[1;32m    504\u001b[0m         \u001b[0mn_jobs_\u001b[0m \u001b[0;34m=\u001b[0m \u001b[0mself\u001b[0m\u001b[0;34m.\u001b[0m\u001b[0mn_jobs\u001b[0m\u001b[0;34m\u001b[0m\u001b[0m\n\u001b[1;32m    505\u001b[0m         X, y = self._validate_data(X, y, accept_sparse=['csr', 'csc', 'coo'],\n\u001b[0;32m--> 506\u001b[0;31m                                    y_numeric=True, multi_output=True)\n\u001b[0m\u001b[1;32m    507\u001b[0m \u001b[0;34m\u001b[0m\u001b[0m\n\u001b[1;32m    508\u001b[0m         \u001b[0;32mif\u001b[0m \u001b[0msample_weight\u001b[0m \u001b[0;32mis\u001b[0m \u001b[0;32mnot\u001b[0m \u001b[0;32mNone\u001b[0m\u001b[0;34m:\u001b[0m\u001b[0;34m\u001b[0m\u001b[0m\n",
      "\u001b[0;32m~/anaconda3/lib/python3.7/site-packages/sklearn/base.py\u001b[0m in \u001b[0;36m_validate_data\u001b[0;34m(self, X, y, reset, validate_separately, **check_params)\u001b[0m\n\u001b[1;32m    430\u001b[0m                 \u001b[0my\u001b[0m \u001b[0;34m=\u001b[0m \u001b[0mcheck_array\u001b[0m\u001b[0;34m(\u001b[0m\u001b[0my\u001b[0m\u001b[0;34m,\u001b[0m \u001b[0;34m**\u001b[0m\u001b[0mcheck_y_params\u001b[0m\u001b[0;34m)\u001b[0m\u001b[0;34m\u001b[0m\u001b[0m\n\u001b[1;32m    431\u001b[0m             \u001b[0;32melse\u001b[0m\u001b[0;34m:\u001b[0m\u001b[0;34m\u001b[0m\u001b[0m\n\u001b[0;32m--> 432\u001b[0;31m                 \u001b[0mX\u001b[0m\u001b[0;34m,\u001b[0m \u001b[0my\u001b[0m \u001b[0;34m=\u001b[0m \u001b[0mcheck_X_y\u001b[0m\u001b[0;34m(\u001b[0m\u001b[0mX\u001b[0m\u001b[0;34m,\u001b[0m \u001b[0my\u001b[0m\u001b[0;34m,\u001b[0m \u001b[0;34m**\u001b[0m\u001b[0mcheck_params\u001b[0m\u001b[0;34m)\u001b[0m\u001b[0;34m\u001b[0m\u001b[0m\n\u001b[0m\u001b[1;32m    433\u001b[0m             \u001b[0mout\u001b[0m \u001b[0;34m=\u001b[0m \u001b[0mX\u001b[0m\u001b[0;34m,\u001b[0m \u001b[0my\u001b[0m\u001b[0;34m\u001b[0m\u001b[0m\n\u001b[1;32m    434\u001b[0m \u001b[0;34m\u001b[0m\u001b[0m\n",
      "\u001b[0;32m~/anaconda3/lib/python3.7/site-packages/sklearn/utils/validation.py\u001b[0m in \u001b[0;36minner_f\u001b[0;34m(*args, **kwargs)\u001b[0m\n\u001b[1;32m     70\u001b[0m                           FutureWarning)\n\u001b[1;32m     71\u001b[0m         \u001b[0mkwargs\u001b[0m\u001b[0;34m.\u001b[0m\u001b[0mupdate\u001b[0m\u001b[0;34m(\u001b[0m\u001b[0;34m{\u001b[0m\u001b[0mk\u001b[0m\u001b[0;34m:\u001b[0m \u001b[0marg\u001b[0m \u001b[0;32mfor\u001b[0m \u001b[0mk\u001b[0m\u001b[0;34m,\u001b[0m \u001b[0marg\u001b[0m \u001b[0;32min\u001b[0m \u001b[0mzip\u001b[0m\u001b[0;34m(\u001b[0m\u001b[0msig\u001b[0m\u001b[0;34m.\u001b[0m\u001b[0mparameters\u001b[0m\u001b[0;34m,\u001b[0m \u001b[0margs\u001b[0m\u001b[0;34m)\u001b[0m\u001b[0;34m}\u001b[0m\u001b[0;34m)\u001b[0m\u001b[0;34m\u001b[0m\u001b[0m\n\u001b[0;32m---> 72\u001b[0;31m         \u001b[0;32mreturn\u001b[0m \u001b[0mf\u001b[0m\u001b[0;34m(\u001b[0m\u001b[0;34m**\u001b[0m\u001b[0mkwargs\u001b[0m\u001b[0;34m)\u001b[0m\u001b[0;34m\u001b[0m\u001b[0m\n\u001b[0m\u001b[1;32m     73\u001b[0m     \u001b[0;32mreturn\u001b[0m \u001b[0minner_f\u001b[0m\u001b[0;34m\u001b[0m\u001b[0m\n\u001b[1;32m     74\u001b[0m \u001b[0;34m\u001b[0m\u001b[0m\n",
      "\u001b[0;32m~/anaconda3/lib/python3.7/site-packages/sklearn/utils/validation.py\u001b[0m in \u001b[0;36mcheck_X_y\u001b[0;34m(X, y, accept_sparse, accept_large_sparse, dtype, order, copy, force_all_finite, ensure_2d, allow_nd, multi_output, ensure_min_samples, ensure_min_features, y_numeric, estimator)\u001b[0m\n\u001b[1;32m    803\u001b[0m     \u001b[0;32mif\u001b[0m \u001b[0mmulti_output\u001b[0m\u001b[0;34m:\u001b[0m\u001b[0;34m\u001b[0m\u001b[0m\n\u001b[1;32m    804\u001b[0m         y = check_array(y, accept_sparse='csr', force_all_finite=True,\n\u001b[0;32m--> 805\u001b[0;31m                         ensure_2d=False, dtype=None)\n\u001b[0m\u001b[1;32m    806\u001b[0m     \u001b[0;32melse\u001b[0m\u001b[0;34m:\u001b[0m\u001b[0;34m\u001b[0m\u001b[0m\n\u001b[1;32m    807\u001b[0m         \u001b[0my\u001b[0m \u001b[0;34m=\u001b[0m \u001b[0mcolumn_or_1d\u001b[0m\u001b[0;34m(\u001b[0m\u001b[0my\u001b[0m\u001b[0;34m,\u001b[0m \u001b[0mwarn\u001b[0m\u001b[0;34m=\u001b[0m\u001b[0;32mTrue\u001b[0m\u001b[0;34m)\u001b[0m\u001b[0;34m\u001b[0m\u001b[0m\n",
      "\u001b[0;32m~/anaconda3/lib/python3.7/site-packages/sklearn/utils/validation.py\u001b[0m in \u001b[0;36minner_f\u001b[0;34m(*args, **kwargs)\u001b[0m\n\u001b[1;32m     70\u001b[0m                           FutureWarning)\n\u001b[1;32m     71\u001b[0m         \u001b[0mkwargs\u001b[0m\u001b[0;34m.\u001b[0m\u001b[0mupdate\u001b[0m\u001b[0;34m(\u001b[0m\u001b[0;34m{\u001b[0m\u001b[0mk\u001b[0m\u001b[0;34m:\u001b[0m \u001b[0marg\u001b[0m \u001b[0;32mfor\u001b[0m \u001b[0mk\u001b[0m\u001b[0;34m,\u001b[0m \u001b[0marg\u001b[0m \u001b[0;32min\u001b[0m \u001b[0mzip\u001b[0m\u001b[0;34m(\u001b[0m\u001b[0msig\u001b[0m\u001b[0;34m.\u001b[0m\u001b[0mparameters\u001b[0m\u001b[0;34m,\u001b[0m \u001b[0margs\u001b[0m\u001b[0;34m)\u001b[0m\u001b[0;34m}\u001b[0m\u001b[0;34m)\u001b[0m\u001b[0;34m\u001b[0m\u001b[0m\n\u001b[0;32m---> 72\u001b[0;31m         \u001b[0;32mreturn\u001b[0m \u001b[0mf\u001b[0m\u001b[0;34m(\u001b[0m\u001b[0;34m**\u001b[0m\u001b[0mkwargs\u001b[0m\u001b[0;34m)\u001b[0m\u001b[0;34m\u001b[0m\u001b[0m\n\u001b[0m\u001b[1;32m     73\u001b[0m     \u001b[0;32mreturn\u001b[0m \u001b[0minner_f\u001b[0m\u001b[0;34m\u001b[0m\u001b[0m\n\u001b[1;32m     74\u001b[0m \u001b[0;34m\u001b[0m\u001b[0m\n",
      "\u001b[0;32m~/anaconda3/lib/python3.7/site-packages/sklearn/utils/validation.py\u001b[0m in \u001b[0;36mcheck_array\u001b[0;34m(array, accept_sparse, accept_large_sparse, dtype, order, copy, force_all_finite, ensure_2d, allow_nd, ensure_min_samples, ensure_min_features, estimator)\u001b[0m\n\u001b[1;32m    643\u001b[0m         \u001b[0;32mif\u001b[0m \u001b[0mforce_all_finite\u001b[0m\u001b[0;34m:\u001b[0m\u001b[0;34m\u001b[0m\u001b[0m\n\u001b[1;32m    644\u001b[0m             _assert_all_finite(array,\n\u001b[0;32m--> 645\u001b[0;31m                                allow_nan=force_all_finite == 'allow-nan')\n\u001b[0m\u001b[1;32m    646\u001b[0m \u001b[0;34m\u001b[0m\u001b[0m\n\u001b[1;32m    647\u001b[0m     \u001b[0;32mif\u001b[0m \u001b[0mensure_min_samples\u001b[0m \u001b[0;34m>\u001b[0m \u001b[0;36m0\u001b[0m\u001b[0;34m:\u001b[0m\u001b[0;34m\u001b[0m\u001b[0m\n",
      "\u001b[0;32m~/anaconda3/lib/python3.7/site-packages/sklearn/utils/validation.py\u001b[0m in \u001b[0;36m_assert_all_finite\u001b[0;34m(X, allow_nan, msg_dtype)\u001b[0m\n\u001b[1;32m     97\u001b[0m                     \u001b[0mmsg_err\u001b[0m\u001b[0;34m.\u001b[0m\u001b[0mformat\u001b[0m\u001b[0;34m\u001b[0m\u001b[0m\n\u001b[1;32m     98\u001b[0m                     (type_err,\n\u001b[0;32m---> 99\u001b[0;31m                      msg_dtype if msg_dtype is not None else X.dtype)\n\u001b[0m\u001b[1;32m    100\u001b[0m             )\n\u001b[1;32m    101\u001b[0m     \u001b[0;31m# for object dtype data, we only check for NaNs (GH-13254)\u001b[0m\u001b[0;34m\u001b[0m\u001b[0;34m\u001b[0m\u001b[0m\n",
      "\u001b[0;31mValueError\u001b[0m: Input contains NaN, infinity or a value too large for dtype('float64')."
     ]
    }
   ],
   "source": [
    "from sklearn.linear_model import LinearRegression\n",
    "\n",
    "x = final_log.index.values\n",
    "y = final_log['log(cn-cref) ']\n",
    "\n",
    "x = x.reshape(-1,1)\n",
    "\n",
    "reg = LinearRegression().fit(x, y.values)"
   ]
  },
  {
   "cell_type": "code",
   "execution_count": 33,
   "metadata": {},
   "outputs": [
    {
     "ename": "NameError",
     "evalue": "name 'reg' is not defined",
     "output_type": "error",
     "traceback": [
      "\u001b[0;31m---------------------------------------------------------------------------\u001b[0m",
      "\u001b[0;31mNameError\u001b[0m                                 Traceback (most recent call last)",
      "\u001b[0;32m<ipython-input-33-a61ebb4c7cdc>\u001b[0m in \u001b[0;36m<module>\u001b[0;34m\u001b[0m\n\u001b[0;32m----> 1\u001b[0;31m \u001b[0mreg\u001b[0m\u001b[0;34m.\u001b[0m\u001b[0mcoef_\u001b[0m\u001b[0;34m\u001b[0m\u001b[0m\n\u001b[0m",
      "\u001b[0;31mNameError\u001b[0m: name 'reg' is not defined"
     ]
    }
   ],
   "source": [
    "reg.coef_"
   ]
  },
  {
   "cell_type": "code",
   "execution_count": 34,
   "metadata": {},
   "outputs": [
    {
     "data": {
      "text/plain": [
       "0.31617407"
      ]
     },
     "execution_count": 34,
     "metadata": {},
     "output_type": "execute_result"
    }
   ],
   "source": [
    "beta = 1 -0.68382593\n",
    "beta"
   ]
  },
  {
   "cell_type": "markdown",
   "metadata": {},
   "source": [
    "# Computational Times"
   ]
  },
  {
   "cell_type": "code",
   "execution_count": 35,
   "metadata": {},
   "outputs": [],
   "source": [
    "comput_times = final.set_index('n')['comput_time -sec-']"
   ]
  },
  {
   "cell_type": "code",
   "execution_count": 36,
   "metadata": {},
   "outputs": [],
   "source": [
    "comput_times = comput_times.reset_index()"
   ]
  },
  {
   "cell_type": "code",
   "execution_count": 37,
   "metadata": {},
   "outputs": [],
   "source": [
    "comput_times['logn'] = np.log(comput_times['n'])\n",
    "comput_times['logcomp'] = np.log(comput_times['comput_time -sec-'])"
   ]
  },
  {
   "cell_type": "code",
   "execution_count": 38,
   "metadata": {},
   "outputs": [],
   "source": [
    "comput_times = comput_times.set_index('logn')['logcomp']"
   ]
  },
  {
   "cell_type": "markdown",
   "metadata": {},
   "source": [
    "plot = comput_times.plot(marker= \"o\")\n",
    "\n",
    "fig = plot.get_figure()\n",
    "\n",
    "fig.set_size_inches(13, 8)\n",
    "fig.suptitle('log-log', fontsize=30)    # SET BIG TITLE\n",
    "plot.set_xlabel('log(n) ', fontsize=18)\n",
    "plot.set_ylabel('log(comptime) ', fontsize=16)\n",
    "fig.savefig('comp_times', dpi=200)"
   ]
  },
  {
   "cell_type": "code",
   "execution_count": 39,
   "metadata": {},
   "outputs": [
    {
     "data": {
      "text/plain": [
       "array([-6.93000803, -6.8438706 , -6.69186299, -6.2095673 , -5.31449403,\n",
       "       -4.09765547, -2.8498585 , -1.48749324, -0.10059625,  1.30082371,\n",
       "        2.7073328 ,  4.09858912])"
      ]
     },
     "execution_count": 39,
     "metadata": {},
     "output_type": "execute_result"
    }
   ],
   "source": [
    "comput_times.values"
   ]
  },
  {
   "cell_type": "code",
   "execution_count": 40,
   "metadata": {},
   "outputs": [],
   "source": [
    "\n",
    "\n",
    "x = comput_times.index.values[6:]\n",
    "y = comput_times.values[6:]\n",
    "\n",
    "x = x.reshape(-1,1)\n",
    "\n",
    "reg = LinearRegression().fit(x, y)"
   ]
  },
  {
   "cell_type": "code",
   "execution_count": 41,
   "metadata": {},
   "outputs": [
    {
     "data": {
      "text/plain": [
       "array([2.00856687])"
      ]
     },
     "execution_count": 41,
     "metadata": {},
     "output_type": "execute_result"
    }
   ],
   "source": [
    "reg.coef_"
   ]
  },
  {
   "cell_type": "markdown",
   "metadata": {},
   "source": [
    "# Richardson Romberg Extrapolation "
   ]
  },
  {
   "cell_type": "code",
   "execution_count": 42,
   "metadata": {},
   "outputs": [],
   "source": [
    "def richardson_romb_2(n) :\n",
    "    if n%2 == 0:\n",
    "        return 2*computing_psi_n(n)[0].iloc[-1].value - computing_psi_n(int(n/2))[0].iloc[-1].value\n",
    "    else:\n",
    "        print('error. Insert n even')\n",
    "\n",
    "        \n",
    "def richardson_romb_3(n):\n",
    "    if n%4 == 0:\n",
    "        addend_1 = 1/3*computing_psi_n(int(n/4))[0].iloc[-1].value\n",
    "        addend_2 = -2*computing_psi_n(int(n/2))[0].iloc[-1].value\n",
    "        addend_3 = 8/3*computing_psi_n(n)[0].iloc[-1].value\n",
    "        return addend_1+addend_2+addend_3\n",
    "    else:\n",
    "        print('error. Insert n multiple of 4')"
   ]
  },
  {
   "cell_type": "code",
   "execution_count": 44,
   "metadata": {},
   "outputs": [
    {
     "name": "stdout",
     "output_type": "stream",
     "text": [
      "t_k0= 0.0\n",
      "t_k0= 0.000992063492063492\n",
      "t_k0= 0.000992063492063492\n"
     ]
    },
    {
     "data": {
      "text/plain": [
       "-15.218320047613906"
      ]
     },
     "execution_count": 44,
     "metadata": {},
     "output_type": "execute_result"
    }
   ],
   "source": [
    "richardson_romb_3(8)"
   ]
  },
  {
   "cell_type": "code",
   "execution_count": 45,
   "metadata": {},
   "outputs": [],
   "source": [
    "rr2 = {}\n",
    "compt_time_2 = {}\n",
    "rr3 = {}\n",
    "compt_time_3 = {}"
   ]
  },
  {
   "cell_type": "markdown",
   "metadata": {},
   "source": [
    "# Don't Run the following two take time. Just read the csv. "
   ]
  },
  {
   "cell_type": "code",
   "execution_count": 46,
   "metadata": {},
   "outputs": [
    {
     "name": "stdout",
     "output_type": "stream",
     "text": [
      "t_k0= 0.000992063492063492\n",
      "t_k0= 0.001240079365079365\n",
      "t_k0= 0.001240079365079365\n",
      "t_k0= 0.001240079365079365\n",
      "t_k0= 0.001240079365079365\n",
      "t_k0= 0.001240079365079365\n",
      "t_k0= 0.001240079365079365\n",
      "t_k0= 0.001240079365079365\n",
      "t_k0= 0.001240079365079365\n",
      "t_k0= 0.001240079365079365\n",
      "t_k0= 0.001240079365079365\n",
      "t_k0= 0.001255580357142857\n",
      "t_k0= 0.001240079365079365\n",
      "t_k0= 0.001255580357142857\n",
      "t_k0= 0.001263330853174603\n",
      "t_k0= 0.001255580357142857\n",
      "t_k0= 0.001263330853174603\n",
      "t_k0= 0.001263330853174603\n",
      "t_k0= 0.001263330853174603\n",
      "t_k0= 0.001263330853174603\n",
      "t_k0= 0.0012652684771825395\n",
      "t_k0= 0.001263330853174603\n",
      "t_k0= 0.0012652684771825395\n",
      "t_k0= 0.0012652684771825395\n",
      "t_k0= 0.0012652684771825395\n",
      "t_k0= 0.0012652684771825395\n"
     ]
    },
    {
     "ename": "KeyboardInterrupt",
     "evalue": "",
     "output_type": "error",
     "traceback": [
      "\u001b[0;31m---------------------------------------------------------------------------\u001b[0m",
      "\u001b[0;31mKeyboardInterrupt\u001b[0m                         Traceback (most recent call last)",
      "\u001b[0;32m<ipython-input-46-e0478dfb9ddf>\u001b[0m in \u001b[0;36m<module>\u001b[0;34m\u001b[0m\n\u001b[1;32m      3\u001b[0m \u001b[0;32mfor\u001b[0m \u001b[0mn\u001b[0m \u001b[0;32min\u001b[0m \u001b[0;34m[\u001b[0m\u001b[0;36m2\u001b[0m\u001b[0;34m**\u001b[0m\u001b[0mk\u001b[0m \u001b[0;32mfor\u001b[0m \u001b[0mk\u001b[0m \u001b[0;32min\u001b[0m \u001b[0mrange\u001b[0m\u001b[0;34m(\u001b[0m\u001b[0;36m5\u001b[0m\u001b[0;34m,\u001b[0m\u001b[0;36m16\u001b[0m\u001b[0;34m)\u001b[0m\u001b[0;34m]\u001b[0m\u001b[0;34m:\u001b[0m\u001b[0;34m\u001b[0m\u001b[0m\n\u001b[1;32m      4\u001b[0m     \u001b[0mstart_time\u001b[0m \u001b[0;34m=\u001b[0m \u001b[0mtime\u001b[0m\u001b[0;34m.\u001b[0m\u001b[0mtime\u001b[0m\u001b[0;34m(\u001b[0m\u001b[0;34m)\u001b[0m\u001b[0;34m\u001b[0m\u001b[0m\n\u001b[0;32m----> 5\u001b[0;31m     \u001b[0mrr3\u001b[0m\u001b[0;34m[\u001b[0m\u001b[0mn\u001b[0m\u001b[0;34m]\u001b[0m \u001b[0;34m=\u001b[0m \u001b[0mrichardson_romb_3\u001b[0m\u001b[0;34m(\u001b[0m\u001b[0mn\u001b[0m\u001b[0;34m)\u001b[0m\u001b[0;34m\u001b[0m\u001b[0m\n\u001b[0m\u001b[1;32m      6\u001b[0m     \u001b[0mcompt_time_3\u001b[0m\u001b[0;34m[\u001b[0m\u001b[0mn\u001b[0m\u001b[0;34m]\u001b[0m \u001b[0;34m=\u001b[0m \u001b[0mtime\u001b[0m\u001b[0;34m.\u001b[0m\u001b[0mtime\u001b[0m\u001b[0;34m(\u001b[0m\u001b[0;34m)\u001b[0m\u001b[0;34m-\u001b[0m\u001b[0mstart_time\u001b[0m\u001b[0;34m\u001b[0m\u001b[0m\n",
      "\u001b[0;32m<ipython-input-42-b682e566712b>\u001b[0m in \u001b[0;36mrichardson_romb_3\u001b[0;34m(n)\u001b[0m\n\u001b[1;32m     10\u001b[0m         \u001b[0maddend_1\u001b[0m \u001b[0;34m=\u001b[0m \u001b[0;36m1\u001b[0m\u001b[0;34m/\u001b[0m\u001b[0;36m3\u001b[0m\u001b[0;34m*\u001b[0m\u001b[0mcomputing_psi_n\u001b[0m\u001b[0;34m(\u001b[0m\u001b[0mint\u001b[0m\u001b[0;34m(\u001b[0m\u001b[0mn\u001b[0m\u001b[0;34m/\u001b[0m\u001b[0;36m4\u001b[0m\u001b[0;34m)\u001b[0m\u001b[0;34m)\u001b[0m\u001b[0;34m[\u001b[0m\u001b[0;36m0\u001b[0m\u001b[0;34m]\u001b[0m\u001b[0;34m.\u001b[0m\u001b[0miloc\u001b[0m\u001b[0;34m[\u001b[0m\u001b[0;34m-\u001b[0m\u001b[0;36m1\u001b[0m\u001b[0;34m]\u001b[0m\u001b[0;34m.\u001b[0m\u001b[0mvalue\u001b[0m\u001b[0;34m\u001b[0m\u001b[0m\n\u001b[1;32m     11\u001b[0m         \u001b[0maddend_2\u001b[0m \u001b[0;34m=\u001b[0m \u001b[0;34m-\u001b[0m\u001b[0;36m2\u001b[0m\u001b[0;34m*\u001b[0m\u001b[0mcomputing_psi_n\u001b[0m\u001b[0;34m(\u001b[0m\u001b[0mint\u001b[0m\u001b[0;34m(\u001b[0m\u001b[0mn\u001b[0m\u001b[0;34m/\u001b[0m\u001b[0;36m2\u001b[0m\u001b[0;34m)\u001b[0m\u001b[0;34m)\u001b[0m\u001b[0;34m[\u001b[0m\u001b[0;36m0\u001b[0m\u001b[0;34m]\u001b[0m\u001b[0;34m.\u001b[0m\u001b[0miloc\u001b[0m\u001b[0;34m[\u001b[0m\u001b[0;34m-\u001b[0m\u001b[0;36m1\u001b[0m\u001b[0;34m]\u001b[0m\u001b[0;34m.\u001b[0m\u001b[0mvalue\u001b[0m\u001b[0;34m\u001b[0m\u001b[0m\n\u001b[0;32m---> 12\u001b[0;31m         \u001b[0maddend_3\u001b[0m \u001b[0;34m=\u001b[0m \u001b[0;36m8\u001b[0m\u001b[0;34m/\u001b[0m\u001b[0;36m3\u001b[0m\u001b[0;34m*\u001b[0m\u001b[0mcomputing_psi_n\u001b[0m\u001b[0;34m(\u001b[0m\u001b[0mn\u001b[0m\u001b[0;34m)\u001b[0m\u001b[0;34m[\u001b[0m\u001b[0;36m0\u001b[0m\u001b[0;34m]\u001b[0m\u001b[0;34m.\u001b[0m\u001b[0miloc\u001b[0m\u001b[0;34m[\u001b[0m\u001b[0;34m-\u001b[0m\u001b[0;36m1\u001b[0m\u001b[0;34m]\u001b[0m\u001b[0;34m.\u001b[0m\u001b[0mvalue\u001b[0m\u001b[0;34m\u001b[0m\u001b[0m\n\u001b[0m\u001b[1;32m     13\u001b[0m         \u001b[0;32mreturn\u001b[0m \u001b[0maddend_1\u001b[0m\u001b[0;34m+\u001b[0m\u001b[0maddend_2\u001b[0m\u001b[0;34m+\u001b[0m\u001b[0maddend_3\u001b[0m\u001b[0;34m\u001b[0m\u001b[0m\n\u001b[1;32m     14\u001b[0m     \u001b[0;32melse\u001b[0m\u001b[0;34m:\u001b[0m\u001b[0;34m\u001b[0m\u001b[0m\n",
      "\u001b[0;32m<ipython-input-17-bd79f73c5c52>\u001b[0m in \u001b[0;36mcomputing_psi_n\u001b[0;34m(n)\u001b[0m\n\u001b[1;32m     38\u001b[0m         \u001b[0;32mfor\u001b[0m \u001b[0ml\u001b[0m \u001b[0;32min\u001b[0m \u001b[0mrange\u001b[0m\u001b[0;34m(\u001b[0m\u001b[0;36m1\u001b[0m\u001b[0;34m,\u001b[0m\u001b[0mk\u001b[0m\u001b[0;34m)\u001b[0m\u001b[0;34m:\u001b[0m\u001b[0;34m\u001b[0m\u001b[0m\n\u001b[1;32m     39\u001b[0m             \u001b[0mpsi_n_t_l\u001b[0m \u001b[0;34m=\u001b[0m \u001b[0mvalues_assumed_in_disc_times\u001b[0m\u001b[0;34m[\u001b[0m\u001b[0ml\u001b[0m\u001b[0;34m]\u001b[0m\u001b[0;34m\u001b[0m\u001b[0m\n\u001b[0;32m---> 40\u001b[0;31m             \u001b[0maddend_3\u001b[0m \u001b[0;34m+=\u001b[0m \u001b[0mcompute_c_i\u001b[0m\u001b[0;34m(\u001b[0m\u001b[0malpha\u001b[0m\u001b[0;34m,\u001b[0m \u001b[0mk\u001b[0m\u001b[0;34m-\u001b[0m\u001b[0ml\u001b[0m\u001b[0;34m-\u001b[0m\u001b[0;36m1\u001b[0m\u001b[0;34m)\u001b[0m\u001b[0;34m*\u001b[0m\u001b[0mpsi_n_t_l\u001b[0m\u001b[0;34m*\u001b[0m\u001b[0;34m(\u001b[0m\u001b[0mlambd\u001b[0m\u001b[0;34m*\u001b[0m\u001b[0mpsi_n_t_l\u001b[0m \u001b[0;34m+\u001b[0m \u001b[0mmu\u001b[0m\u001b[0;34m)\u001b[0m\u001b[0;34m\u001b[0m\u001b[0m\n\u001b[0m\u001b[1;32m     41\u001b[0m \u001b[0;34m\u001b[0m\u001b[0m\n\u001b[1;32m     42\u001b[0m         \u001b[0mfactor_2\u001b[0m \u001b[0;34m=\u001b[0m \u001b[0maddend_2\u001b[0m \u001b[0;34m+\u001b[0m \u001b[0maddend_3\u001b[0m\u001b[0;34m\u001b[0m\u001b[0m\n",
      "\u001b[0;32m<ipython-input-17-bd79f73c5c52>\u001b[0m in \u001b[0;36mcompute_c_i\u001b[0;34m(alpha, l)\u001b[0m\n\u001b[1;32m     24\u001b[0m \u001b[0;34m\u001b[0m\u001b[0m\n\u001b[1;32m     25\u001b[0m     \u001b[0;31m### Here Instead We Use The Euler Scheme\u001b[0m\u001b[0;34m\u001b[0m\u001b[0;34m\u001b[0m\u001b[0m\n\u001b[0;32m---> 26\u001b[0;31m     \u001b[0;32mdef\u001b[0m \u001b[0mcompute_c_i\u001b[0m\u001b[0;34m(\u001b[0m\u001b[0malpha\u001b[0m\u001b[0;34m,\u001b[0m \u001b[0ml\u001b[0m\u001b[0;34m)\u001b[0m\u001b[0;34m:\u001b[0m\u001b[0;34m\u001b[0m\u001b[0m\n\u001b[0m\u001b[1;32m     27\u001b[0m         \u001b[0;32mif\u001b[0m \u001b[0ml\u001b[0m \u001b[0;34m==\u001b[0m \u001b[0;36m0\u001b[0m\u001b[0;34m:\u001b[0m\u001b[0;34m\u001b[0m\u001b[0m\n\u001b[1;32m     28\u001b[0m             \u001b[0;32mreturn\u001b[0m \u001b[0;36m1\u001b[0m\u001b[0;34m\u001b[0m\u001b[0m\n",
      "\u001b[0;31mKeyboardInterrupt\u001b[0m: "
     ]
    }
   ],
   "source": [
    "import time\n",
    "\n",
    "for n in [2**k for k in range(5,16)]:\n",
    "    start_time = time.time()\n",
    "    rr3[n] = richardson_romb_3(n)\n",
    "    compt_time_3[n] = time.time()-start_time"
   ]
  },
  {
   "cell_type": "code",
   "execution_count": null,
   "metadata": {},
   "outputs": [],
   "source": [
    "for n in [2**k for k in range(5,16)]:\n",
    "    start_time = time.time()\n",
    "    rr2[n] = richardson_romb_2(n)\n",
    "    compt_time_2[n] = time.time()-start_time"
   ]
  },
  {
   "cell_type": "code",
   "execution_count": 58,
   "metadata": {},
   "outputs": [],
   "source": [
    "fin_extr = pd.DataFrame({\"n\": [key for key in rr2], \"rr2\": [rr2[key] for key in rr2], \"rr3\": [rr3[key] for key in rr3], \n",
    "              \"comp2\" : [compt_time_2[key] for key in rr2], \"comp3\":  [compt_time_3[key] for key in rr2]})\n",
    "\n",
    "fin_extr"
   ]
  },
  {
   "cell_type": "code",
   "execution_count": 60,
   "metadata": {},
   "outputs": [],
   "source": [
    "fin_extr['logn'] = np.log(fin_extr['n'])"
   ]
  },
  {
   "cell_type": "code",
   "execution_count": 61,
   "metadata": {},
   "outputs": [
    {
     "data": {
      "text/html": [
       "<div>\n",
       "<style scoped>\n",
       "    .dataframe tbody tr th:only-of-type {\n",
       "        vertical-align: middle;\n",
       "    }\n",
       "\n",
       "    .dataframe tbody tr th {\n",
       "        vertical-align: top;\n",
       "    }\n",
       "\n",
       "    .dataframe thead th {\n",
       "        text-align: right;\n",
       "    }\n",
       "</style>\n",
       "<table border=\"1\" class=\"dataframe\">\n",
       "  <thead>\n",
       "    <tr style=\"text-align: right;\">\n",
       "      <th></th>\n",
       "      <th>n</th>\n",
       "      <th>rr2</th>\n",
       "      <th>rr3</th>\n",
       "      <th>comp2</th>\n",
       "      <th>comp3</th>\n",
       "      <th>logn</th>\n",
       "    </tr>\n",
       "  </thead>\n",
       "  <tbody>\n",
       "    <tr>\n",
       "      <th>0</th>\n",
       "      <td>32</td>\n",
       "      <td>0.922013</td>\n",
       "      <td>0.522561</td>\n",
       "      <td>0.002253</td>\n",
       "      <td>0.002648</td>\n",
       "      <td>3.465736</td>\n",
       "    </tr>\n",
       "    <tr>\n",
       "      <th>1</th>\n",
       "      <td>64</td>\n",
       "      <td>0.925187</td>\n",
       "      <td>0.926245</td>\n",
       "      <td>0.003159</td>\n",
       "      <td>0.003967</td>\n",
       "      <td>4.158883</td>\n",
       "    </tr>\n",
       "    <tr>\n",
       "      <th>2</th>\n",
       "      <td>128</td>\n",
       "      <td>0.925338</td>\n",
       "      <td>0.925388</td>\n",
       "      <td>0.005185</td>\n",
       "      <td>0.006413</td>\n",
       "      <td>4.852030</td>\n",
       "    </tr>\n",
       "    <tr>\n",
       "      <th>3</th>\n",
       "      <td>256</td>\n",
       "      <td>0.925401</td>\n",
       "      <td>0.925422</td>\n",
       "      <td>0.016054</td>\n",
       "      <td>0.017432</td>\n",
       "      <td>5.545177</td>\n",
       "    </tr>\n",
       "    <tr>\n",
       "      <th>4</th>\n",
       "      <td>512</td>\n",
       "      <td>0.925413</td>\n",
       "      <td>0.925417</td>\n",
       "      <td>0.061595</td>\n",
       "      <td>0.062513</td>\n",
       "      <td>6.238325</td>\n",
       "    </tr>\n",
       "    <tr>\n",
       "      <th>5</th>\n",
       "      <td>1024</td>\n",
       "      <td>0.925417</td>\n",
       "      <td>0.925419</td>\n",
       "      <td>0.220778</td>\n",
       "      <td>0.232190</td>\n",
       "      <td>6.931472</td>\n",
       "    </tr>\n",
       "    <tr>\n",
       "      <th>6</th>\n",
       "      <td>2048</td>\n",
       "      <td>0.925420</td>\n",
       "      <td>0.925420</td>\n",
       "      <td>0.852463</td>\n",
       "      <td>0.906958</td>\n",
       "      <td>7.624619</td>\n",
       "    </tr>\n",
       "    <tr>\n",
       "      <th>7</th>\n",
       "      <td>4096</td>\n",
       "      <td>0.925420</td>\n",
       "      <td>0.925420</td>\n",
       "      <td>3.378545</td>\n",
       "      <td>3.681777</td>\n",
       "      <td>8.317766</td>\n",
       "    </tr>\n",
       "    <tr>\n",
       "      <th>8</th>\n",
       "      <td>8192</td>\n",
       "      <td>0.925420</td>\n",
       "      <td>0.925420</td>\n",
       "      <td>13.629304</td>\n",
       "      <td>14.739946</td>\n",
       "      <td>9.010913</td>\n",
       "    </tr>\n",
       "    <tr>\n",
       "      <th>9</th>\n",
       "      <td>16384</td>\n",
       "      <td>0.925421</td>\n",
       "      <td>0.925421</td>\n",
       "      <td>54.030256</td>\n",
       "      <td>58.376655</td>\n",
       "      <td>9.704061</td>\n",
       "    </tr>\n",
       "    <tr>\n",
       "      <th>10</th>\n",
       "      <td>32768</td>\n",
       "      <td>0.925421</td>\n",
       "      <td>0.925421</td>\n",
       "      <td>215.273587</td>\n",
       "      <td>226.938969</td>\n",
       "      <td>10.397208</td>\n",
       "    </tr>\n",
       "  </tbody>\n",
       "</table>\n",
       "</div>"
      ],
      "text/plain": [
       "        n       rr2       rr3       comp2       comp3       logn\n",
       "0      32  0.922013  0.522561    0.002253    0.002648   3.465736\n",
       "1      64  0.925187  0.926245    0.003159    0.003967   4.158883\n",
       "2     128  0.925338  0.925388    0.005185    0.006413   4.852030\n",
       "3     256  0.925401  0.925422    0.016054    0.017432   5.545177\n",
       "4     512  0.925413  0.925417    0.061595    0.062513   6.238325\n",
       "5    1024  0.925417  0.925419    0.220778    0.232190   6.931472\n",
       "6    2048  0.925420  0.925420    0.852463    0.906958   7.624619\n",
       "7    4096  0.925420  0.925420    3.378545    3.681777   8.317766\n",
       "8    8192  0.925420  0.925420   13.629304   14.739946   9.010913\n",
       "9   16384  0.925421  0.925421   54.030256   58.376655   9.704061\n",
       "10  32768  0.925421  0.925421  215.273587  226.938969  10.397208"
      ]
     },
     "execution_count": 61,
     "metadata": {},
     "output_type": "execute_result"
    }
   ],
   "source": [
    "fin_extr"
   ]
  },
  {
   "cell_type": "markdown",
   "metadata": {},
   "source": [
    "# Read Here"
   ]
  },
  {
   "cell_type": "code",
   "execution_count": 47,
   "metadata": {},
   "outputs": [],
   "source": [
    "fin_extr = pd.read_csv('extrapolated.csv')"
   ]
  },
  {
   "cell_type": "code",
   "execution_count": 48,
   "metadata": {},
   "outputs": [],
   "source": [
    "#fin_extr.to_csv('extrapolated.csv')"
   ]
  },
  {
   "cell_type": "code",
   "execution_count": 49,
   "metadata": {},
   "outputs": [],
   "source": [
    "fin_extr = fin_extr.set_index('logn')\n"
   ]
  },
  {
   "cell_type": "code",
   "execution_count": 50,
   "metadata": {},
   "outputs": [
    {
     "data": {
      "text/html": [
       "<div>\n",
       "<style scoped>\n",
       "    .dataframe tbody tr th:only-of-type {\n",
       "        vertical-align: middle;\n",
       "    }\n",
       "\n",
       "    .dataframe tbody tr th {\n",
       "        vertical-align: top;\n",
       "    }\n",
       "\n",
       "    .dataframe thead th {\n",
       "        text-align: right;\n",
       "    }\n",
       "</style>\n",
       "<table border=\"1\" class=\"dataframe\">\n",
       "  <thead>\n",
       "    <tr style=\"text-align: right;\">\n",
       "      <th></th>\n",
       "      <th>Unnamed: 0</th>\n",
       "      <th>n</th>\n",
       "      <th>rr2</th>\n",
       "      <th>rr3</th>\n",
       "      <th>comp2</th>\n",
       "      <th>comp3</th>\n",
       "    </tr>\n",
       "    <tr>\n",
       "      <th>logn</th>\n",
       "      <th></th>\n",
       "      <th></th>\n",
       "      <th></th>\n",
       "      <th></th>\n",
       "      <th></th>\n",
       "      <th></th>\n",
       "    </tr>\n",
       "  </thead>\n",
       "  <tbody>\n",
       "    <tr>\n",
       "      <th>3.465736</th>\n",
       "      <td>0</td>\n",
       "      <td>32</td>\n",
       "      <td>0.922013</td>\n",
       "      <td>0.522561</td>\n",
       "      <td>0.002253</td>\n",
       "      <td>0.002648</td>\n",
       "    </tr>\n",
       "    <tr>\n",
       "      <th>4.158883</th>\n",
       "      <td>1</td>\n",
       "      <td>64</td>\n",
       "      <td>0.925187</td>\n",
       "      <td>0.926245</td>\n",
       "      <td>0.003159</td>\n",
       "      <td>0.003967</td>\n",
       "    </tr>\n",
       "    <tr>\n",
       "      <th>4.852030</th>\n",
       "      <td>2</td>\n",
       "      <td>128</td>\n",
       "      <td>0.925338</td>\n",
       "      <td>0.925388</td>\n",
       "      <td>0.005185</td>\n",
       "      <td>0.006413</td>\n",
       "    </tr>\n",
       "    <tr>\n",
       "      <th>5.545177</th>\n",
       "      <td>3</td>\n",
       "      <td>256</td>\n",
       "      <td>0.925401</td>\n",
       "      <td>0.925422</td>\n",
       "      <td>0.016054</td>\n",
       "      <td>0.017432</td>\n",
       "    </tr>\n",
       "    <tr>\n",
       "      <th>6.238325</th>\n",
       "      <td>4</td>\n",
       "      <td>512</td>\n",
       "      <td>0.925413</td>\n",
       "      <td>0.925417</td>\n",
       "      <td>0.061595</td>\n",
       "      <td>0.062513</td>\n",
       "    </tr>\n",
       "    <tr>\n",
       "      <th>6.931472</th>\n",
       "      <td>5</td>\n",
       "      <td>1024</td>\n",
       "      <td>0.925417</td>\n",
       "      <td>0.925419</td>\n",
       "      <td>0.220778</td>\n",
       "      <td>0.232190</td>\n",
       "    </tr>\n",
       "    <tr>\n",
       "      <th>7.624619</th>\n",
       "      <td>6</td>\n",
       "      <td>2048</td>\n",
       "      <td>0.925420</td>\n",
       "      <td>0.925420</td>\n",
       "      <td>0.852463</td>\n",
       "      <td>0.906958</td>\n",
       "    </tr>\n",
       "    <tr>\n",
       "      <th>8.317766</th>\n",
       "      <td>7</td>\n",
       "      <td>4096</td>\n",
       "      <td>0.925420</td>\n",
       "      <td>0.925420</td>\n",
       "      <td>3.378545</td>\n",
       "      <td>3.681777</td>\n",
       "    </tr>\n",
       "    <tr>\n",
       "      <th>9.010913</th>\n",
       "      <td>8</td>\n",
       "      <td>8192</td>\n",
       "      <td>0.925420</td>\n",
       "      <td>0.925420</td>\n",
       "      <td>13.629304</td>\n",
       "      <td>14.739946</td>\n",
       "    </tr>\n",
       "    <tr>\n",
       "      <th>9.704061</th>\n",
       "      <td>9</td>\n",
       "      <td>16384</td>\n",
       "      <td>0.925421</td>\n",
       "      <td>0.925421</td>\n",
       "      <td>54.030256</td>\n",
       "      <td>58.376655</td>\n",
       "    </tr>\n",
       "    <tr>\n",
       "      <th>10.397208</th>\n",
       "      <td>10</td>\n",
       "      <td>32768</td>\n",
       "      <td>0.925421</td>\n",
       "      <td>0.925421</td>\n",
       "      <td>215.273587</td>\n",
       "      <td>226.938969</td>\n",
       "    </tr>\n",
       "  </tbody>\n",
       "</table>\n",
       "</div>"
      ],
      "text/plain": [
       "           Unnamed: 0      n       rr2       rr3       comp2       comp3\n",
       "logn                                                                    \n",
       "3.465736            0     32  0.922013  0.522561    0.002253    0.002648\n",
       "4.158883            1     64  0.925187  0.926245    0.003159    0.003967\n",
       "4.852030            2    128  0.925338  0.925388    0.005185    0.006413\n",
       "5.545177            3    256  0.925401  0.925422    0.016054    0.017432\n",
       "6.238325            4    512  0.925413  0.925417    0.061595    0.062513\n",
       "6.931472            5   1024  0.925417  0.925419    0.220778    0.232190\n",
       "7.624619            6   2048  0.925420  0.925420    0.852463    0.906958\n",
       "8.317766            7   4096  0.925420  0.925420    3.378545    3.681777\n",
       "9.010913            8   8192  0.925420  0.925420   13.629304   14.739946\n",
       "9.704061            9  16384  0.925421  0.925421   54.030256   58.376655\n",
       "10.397208          10  32768  0.925421  0.925421  215.273587  226.938969"
      ]
     },
     "execution_count": 50,
     "metadata": {},
     "output_type": "execute_result"
    }
   ],
   "source": [
    "fin_extr"
   ]
  },
  {
   "cell_type": "code",
   "execution_count": 51,
   "metadata": {},
   "outputs": [],
   "source": [
    "import matplotlib.pyplot as plt"
   ]
  },
  {
   "cell_type": "code",
   "execution_count": 52,
   "metadata": {},
   "outputs": [
    {
     "data": {
      "image/png": "[encoded data removed]",
      "text/plain": [
       "<Figure size 936x576 with 1 Axes>"
      ]
     },
     "metadata": {
      "needs_background": "light"
     },
     "output_type": "display_data"
    }
   ],
   "source": [
    "fig, ax = plt.subplots()\n",
    "\n",
    "ax.plot(fin_extr.index.values, fin_extr['rr2'].values, marker = \"o\", label=\"RR2\", linestyle=\"dashdot\")\n",
    "\n",
    "ax.plot(fin_extr.index.values, fin_extr['rr3'].values, marker = \"X\", label= \"RR3\")\n",
    "ax.legend()\n",
    "\n",
    "fig.suptitle('RR2 vs RR3 in function of log(n)', fontsize=30)    # SET BIG TITLE\n",
    "fig.set_size_inches(13, 8)\n",
    "plot.set_xlabel('log(n) ', fontsize=18)\n",
    "plot.set_ylabel('value ', fontsize=16)\n",
    "fig.savefig('extrapolatedrr.png', dpi=200)"
   ]
  },
  {
   "cell_type": "code",
   "execution_count": null,
   "metadata": {},
   "outputs": [],
   "source": []
  }
 ],
 "metadata": {
  "kernelspec": {
   "display_name": "Python 3",
   "language": "python",
   "name": "python3"
  },
  "language_info": {
   "codemirror_mode": {
    "name": "ipython",
    "version": 3
   },
   "file_extension": ".py",
   "mimetype": "text/x-python",
   "name": "python",
   "nbconvert_exporter": "python",
   "pygments_lexer": "ipython3",
   "version": "3.7.0"
  }
 },
 "nbformat": 4,
 "nbformat_minor": 4
}

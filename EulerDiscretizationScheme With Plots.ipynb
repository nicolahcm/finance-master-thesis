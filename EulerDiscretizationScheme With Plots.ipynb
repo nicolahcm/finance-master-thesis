{
 "cells": [
  {
   "cell_type": "code",
   "execution_count": 1,
   "metadata": {},
   "outputs": [],
   "source": [
    "import pandas as pd\n",
    "import numpy as np\n",
    "import math"
   ]
  },
  {
   "cell_type": "markdown",
   "metadata": {},
   "source": [
    "# This has, at the end Euler Discretization Scheme. Note that if n is too big we cannot compute more psi**n.."
   ]
  },
  {
   "cell_type": "markdown",
   "metadata": {},
   "source": [
    "### Set Free Parameters\n",
    "\n",
    "Note this is a particular case. We chose epsilon high, and r_max low, because the coefficients are increasing. And after some point, python cannot compute them anymore as they go to inf. That's why r_max is low and epsilon high"
   ]
  },
  {
   "cell_type": "code",
   "execution_count": 2,
   "metadata": {},
   "outputs": [],
   "source": [
    "alpha = 0.64\n",
    "lambd = 0.045\n",
    "mu = -64.938\n",
    "nu = 44850\n",
    "\n",
    "# error measures\n",
    "epsilon = 0.01\n",
    "theta = 0.9\n",
    "\n",
    "\n",
    "r_max = 105"
   ]
  },
  {
   "cell_type": "markdown",
   "metadata": {},
   "source": [
    "### This function returns the list of coefficients"
   ]
  },
  {
   "cell_type": "code",
   "execution_count": 3,
   "metadata": {},
   "outputs": [],
   "source": [
    "def returns_all_the_first_r_max_coefficients_as_list_2():\n",
    "    ''' Run this function. This returns the list of coefficients. Up to a_k where \n",
    "        k = r_max. '''\n",
    "    \n",
    "    coefficients = [np.nan]*(r_max+1)\n",
    "\n",
    "    a0 = 0 \n",
    "    a1 = nu/math.gamma(alpha+1)\n",
    "    coefficients[0] = a0\n",
    "    coefficients[1] = a1\n",
    "    \n",
    "    \n",
    "    def recursive_convol_coefficients(list_of_coefficients, k):\n",
    "        ''' return a*_k^2  given the first k-1 a_m coefficients. \n",
    "        k is the coefficient a^_k^2 to be returned'''\n",
    "        if k==1:\n",
    "            return 0\n",
    "        else: \n",
    "            sum = 0\n",
    "            for l in range(1,k):\n",
    "                a_l = list_of_coefficients[l]\n",
    "                a_k_l = list_of_coefficients[k-l]\n",
    "                sum += a_l*a_k_l\n",
    "            return sum\n",
    "    \n",
    "    \n",
    "    def recursive_coefficients(list_of_coefficients, n):\n",
    "        ''' Given the convoluted coefficient a_k_star_quadro, \n",
    "        Given also n, the coefficient a_n to be returned... Note that n = k+1 !!! \n",
    "        returns a_k'''\n",
    "        k = n-1 # n-1 = k\n",
    "        a_k_star_quadro = recursive_convol_coefficients(list_of_coefficients, k) \n",
    "        a_k = list_of_coefficients[k]  \n",
    "        a_n = (lambd*a_k_star_quadro + mu*a_k)*math.gamma(alpha*k + 1)/math.gamma(alpha*k + alpha + 1)\n",
    "    \n",
    "        return a_n\n",
    "\n",
    "    for i in range(2, r_max+1):\n",
    "        coefficients[i] = recursive_coefficients( coefficients, i)\n",
    "        \n",
    "    return coefficients"
   ]
  },
  {
   "cell_type": "code",
   "execution_count": 4,
   "metadata": {},
   "outputs": [],
   "source": [
    "coeff = returns_all_the_first_r_max_coefficients_as_list_2()\n",
    "#coeff"
   ]
  },
  {
   "cell_type": "code",
   "execution_count": 5,
   "metadata": {},
   "outputs": [],
   "source": [
    "### Poi posso stampare in un dataframe e metterlo nella tesi i risultati/ coefficienti"
   ]
  },
  {
   "cell_type": "code",
   "execution_count": 6,
   "metadata": {},
   "outputs": [
    {
     "data": {
      "text/plain": [
       "106"
      ]
     },
     "execution_count": 6,
     "metadata": {},
     "output_type": "execute_result"
    }
   ],
   "source": [
    "len(coeff)"
   ]
  },
  {
   "cell_type": "markdown",
   "metadata": {},
   "source": [
    "### Estimating the radius of convergence"
   ]
  },
  {
   "cell_type": "code",
   "execution_count": null,
   "metadata": {},
   "outputs": [],
   "source": [
    "### DO NOT RUN THIS. IT IS A PLOT FOR THE THESIS\n",
    "\n",
    "ott = pd.DataFrame({ \"k\": [i for i in range(0,106)], \"a_k\": coeff}).set_index('k')\n",
    "\n",
    "ott['c'] = np.log(np.abs(ott['a_k']))\n",
    "\n",
    "plot = ott['c'].plot( ylabel= \"log(|a_k|)\", title= \"f(k) = log(|a_k|)\")\n",
    "\n",
    "fig = plot.get_figure()\n",
    "fig.set_size_inches(10, 6)\n",
    "fig.savefig(\"output.png\", dpi=200)"
   ]
  },
  {
   "cell_type": "code",
   "execution_count": 7,
   "metadata": {},
   "outputs": [
    {
     "data": {
      "text/plain": [
       "0.0010881915196240175"
      ]
     },
     "execution_count": 7,
     "metadata": {},
     "output_type": "execute_result"
    }
   ],
   "source": [
    "a_r_max = coeff[-1]\n",
    "a_primo_r_max = a_r_max*math.gamma(alpha*r_max+1)/(math.gamma(alpha*r_max-alpha+1)*(alpha*r_max+1-alpha))\n",
    "\n",
    "R_estimate = abs(a_primo_r_max)**(-1/(alpha*r_max))\n",
    "R_estimate"
   ]
  },
  {
   "cell_type": "code",
   "execution_count": 8,
   "metadata": {
    "scrolled": true
   },
   "outputs": [
    {
     "data": {
      "text/plain": [
       "0.003968253968253968"
      ]
     },
     "execution_count": 8,
     "metadata": {},
     "output_type": "execute_result"
    }
   ],
   "source": [
    "T = 1/252  ## We will need to use the hybrid, since t= 1/252 è più grande di R_estimate!!\n",
    "T"
   ]
  },
  {
   "cell_type": "markdown",
   "metadata": {},
   "source": [
    "### Computing where should we truncate"
   ]
  },
  {
   "cell_type": "code",
   "execution_count": 9,
   "metadata": {},
   "outputs": [
    {
     "data": {
      "text/plain": [
       "102"
      ]
     },
     "execution_count": 9,
     "metadata": {},
     "output_type": "execute_result"
    }
   ],
   "source": [
    "r_0 = math.log(epsilon*(1-theta))/alpha/math.log(theta)-1\n",
    "r_0 = int(np.round(r_0)+1)\n",
    "r_0            ### Hey but this r_0 is independent by n. In fact,\n",
    "               # We should be fix first n, then compute theta_n(n) (defined below),\n",
    "               # Only then we can compute r_0, and therefore the truncated coefficients!!!"
   ]
  },
  {
   "cell_type": "code",
   "execution_count": 10,
   "metadata": {},
   "outputs": [],
   "source": [
    "slicing = slice(0,r_0)\n",
    "\n",
    "coeff_truncated = coeff[slicing]"
   ]
  },
  {
   "cell_type": "markdown",
   "metadata": {},
   "source": [
    "## Euler Scheme"
   ]
  },
  {
   "cell_type": "code",
   "execution_count": 11,
   "metadata": {},
   "outputs": [],
   "source": [
    "### We use the theta function defined in 4.6\n",
    "## IN Truth we set it always fixed to 0.9. Because, anyways, we do not care much for low values of n\n"
   ]
  },
  {
   "cell_type": "code",
   "execution_count": 12,
   "metadata": {},
   "outputs": [],
   "source": [
    "# We won't be using this in the first exercise, but maybe in the next exercises we will need it\n",
    "\n",
    "def theta_n(n):\n",
    "    ''' Theta in function of n '''\n",
    "    if n<16:\n",
    "        return 0.5\n",
    "    if n<32:\n",
    "        return 0.65\n",
    "    if n>4096:\n",
    "        return 0.925\n",
    "    else:\n",
    "        return min(0.65+ 0.3*((n-32)/4064)**0.25  ,0.925)"
   ]
  },
  {
   "cell_type": "markdown",
   "metadata": {},
   "source": [
    "For convenience we will compute r_0 with a theta fixed (theta = 0.9). Why this?\n",
    " Because the value of r_0 changes basing on theta. And, as we observed, if r_0 is too big,\n",
    "It might be that we don't have enough coefficients. Since in this case the coefficients go to infinity,\n",
    " We want to be sure we stay below the threshold. So we use a theta fixed, even for different n's values!"
   ]
  },
  {
   "cell_type": "code",
   "execution_count": 13,
   "metadata": {},
   "outputs": [
    {
     "data": {
      "text/plain": [
       "11.401827625012281"
      ]
     },
     "execution_count": 13,
     "metadata": {},
     "output_type": "execute_result"
    }
   ],
   "source": [
    "def poly(lst, x):   \n",
    "    ''' Evaluate the polynomial with coefficients lst= [a0,a1,a2,...] in x\n",
    "    Pol: a0 + a1*x**alpha + a2*x**(2*alpha) + .... '''\n",
    "    n, tmp = 0, 0\n",
    "    for a in lst:\n",
    "        tmp = tmp + (a * (x**(n*alpha)))\n",
    "        n += 1\n",
    "\n",
    "    return tmp\n",
    "\n",
    "poly([1,2,3], 2)  # 1 + 2*2 + 3*4 "
   ]
  },
  {
   "cell_type": "code",
   "execution_count": 14,
   "metadata": {},
   "outputs": [],
   "source": [
    "def computing_psi_n(n):\n",
    "    ''' Just Give n. This function makes use of the parameters. Then also of the list \"coeff_truncated\" \n",
    "    '''\n",
    "    \n",
    "    disc_times = [k*T/n for k in range(0,n+1)]\n",
    "    \n",
    "    theta = 0.9\n",
    "    #theta = theta_n(n) # Only In This Example, Because The Theta fixed at the beginning would go out otherwise!\n",
    "    \n",
    "    \n",
    "    \n",
    "    k_0 = math.floor(R_estimate*theta*n/T)  ### Up to t_k_0 we will use truncated series. Then Euler Schema\n",
    "    \n",
    "    t_k_0 = disc_times[k_0]\n",
    "    \n",
    "    \n",
    "    values_assumed_in_disc_times = [np.nan]*(n+1)\n",
    "    \n",
    "    \n",
    "    ### Here We Evaluate The Truncated Series!\n",
    "    for k in range(0,k_0+1):\n",
    "        values_assumed_in_disc_times[k] = poly(coeff_truncated, disc_times[k])\n",
    "    \n",
    "    \n",
    "    ### Here Instead We Use The Euler Scheme\n",
    "    def compute_c_i(alpha, l):\n",
    "        if l == 0:\n",
    "            return 1\n",
    "        else: \n",
    "            return (l+1)**alpha - l**alpha\n",
    "    \n",
    "    \n",
    "    \n",
    "    for k in range(k_0+1, n+1):\n",
    "        factor_1 = 1/math.gamma(alpha + 1)*(T/n)**alpha\n",
    "        addend_2 = nu*k**alpha \n",
    "        addend_3 = 0\n",
    "        for l in range(1,k):\n",
    "            psi_n_t_l = values_assumed_in_disc_times[l]\n",
    "            addend_3 += compute_c_i(alpha, k-l-1)*psi_n_t_l*(lambd*psi_n_t_l + mu)\n",
    "        \n",
    "        factor_2 = addend_2 + addend_3\n",
    "        \n",
    "        result = factor_1*factor_2\n",
    "        \n",
    "        values_assumed_in_disc_times[k] = result\n",
    "            \n",
    "    \n",
    "    print(\"t_k0=\", t_k_0)\n",
    "    \n",
    "    #return disc_times, values_assumed_in_disc_times\n",
    "    return pd.DataFrame({\"time\": disc_times, \"value\": values_assumed_in_disc_times}), t_k_0\n",
    "    "
   ]
  },
  {
   "cell_type": "markdown",
   "metadata": {},
   "source": [
    "# Plots Do not run the followings. These are for the thesis"
   ]
  },
  {
   "cell_type": "code",
   "execution_count": null,
   "metadata": {
    "scrolled": true
   },
   "outputs": [],
   "source": [
    "plot = computing_psi_n(32)[0].set_index('time').plot( marker=\"x\", linewidth=0)\n",
    "tk0 = computing_psi_n(32)[1]\n",
    "\n",
    "plot.axvline(x = tk0, linewidth=1, color='r')\n",
    "plot.text(tk0,600,\"t_k0\",rotation=0, fontsize= 20, color=\"r\")\n",
    "\n",
    "\n",
    "fig = plot.get_figure()\n",
    "fig.set_size_inches(13, 8)"
   ]
  },
  {
   "cell_type": "code",
   "execution_count": null,
   "metadata": {},
   "outputs": [],
   "source": [
    "def plot_psi_n(n, nameToSave):\n",
    "    df, tk0 = computing_psi_n(n)\n",
    "    \n",
    "    plot = df.set_index('time').plot( marker=\"x\", linewidth=0, title = nameToSave[:-4])\n",
    "\n",
    "    plot.axvline(x = tk0, linewidth=1, color='r')\n",
    "    plot.text(tk0,600,\"t_k0\",rotation=0, fontsize= 20, color=\"r\")\n",
    "\n",
    "\n",
    "    fig = plot.get_figure()\n",
    "    fig.set_size_inches(13, 8)\n",
    "    fig.savefig(nameToSave, dpi=200)"
   ]
  },
  {
   "cell_type": "code",
   "execution_count": null,
   "metadata": {
    "scrolled": true
   },
   "outputs": [],
   "source": [
    "plot_psi_n(1024, \"n = 1024.png\")"
   ]
  },
  {
   "cell_type": "markdown",
   "metadata": {},
   "source": [
    "# Experiment nr. 2 Computing c_1(n)  "
   ]
  },
  {
   "cell_type": "code",
   "execution_count": 15,
   "metadata": {},
   "outputs": [],
   "source": [
    "def c_1(n):\n",
    "    return 2*n*(computing_psi_n(n)[0].iloc[-1].value - computing_psi_n(2*n)[0].iloc[-1].value)"
   ]
  },
  {
   "cell_type": "code",
   "execution_count": 16,
   "metadata": {
    "scrolled": true
   },
   "outputs": [
    {
     "name": "stdout",
     "output_type": "stream",
     "text": [
      "t_k0= 0.0009785001240079365\n",
      "t_k0= 0.0009785001240079365\n"
     ]
    },
    {
     "data": {
      "text/plain": [
       "198.67725828383118"
      ]
     },
     "execution_count": 16,
     "metadata": {},
     "output_type": "execute_result"
    }
   ],
   "source": [
    "c_1(2048)"
   ]
  },
  {
   "cell_type": "markdown",
   "metadata": {},
   "source": [
    "computing c1 for various n and seeing the time that it takes."
   ]
  },
  {
   "cell_type": "code",
   "execution_count": null,
   "metadata": {},
   "outputs": [],
   "source": [
    "# DONT RUN THIS!!\n",
    "\n",
    "import time\n",
    "start_time = time.time()\n",
    "\n",
    "c_1(4096*2)\n",
    "\n",
    "print(\"--- %s seconds ---\" % (time.time() - start_time))\n",
    "\n",
    "\n",
    "\n",
    "df_ci_times = {}\n",
    "df_ci_values = {}\n",
    "\n",
    "#for i in [4,8,16,32,64,128,256,512,1024,2048,4096, 4096*2, 4096*4]:\n",
    "    \n",
    "#    start_time = time.time()\n",
    " #   df_ci_values[i] = c_1(i)\n",
    "  #  df_ci_times[i] = time.time() - start_time\n",
    "\n",
    "final = pd.DataFrame({\"n\": [key for key in df_ci_times], \"c_n\": [df_ci_values[key] for key in df_ci_values], \"comput_time -sec-\": [df_ci_times[key] for key in df_ci_times]})\n",
    "\n",
    "final = final.set_index(\"n\")\n",
    "final\n",
    "\n",
    "final['comput_time_rapport'] = final['comput_time -sec-']/final['comput_time -sec-'].shift(1)\n",
    "\n",
    "final\n",
    "\n",
    "#final.to_csv('up_to_4096times8.csv')"
   ]
  },
  {
   "cell_type": "code",
   "execution_count": 20,
   "metadata": {},
   "outputs": [
    {
     "data": {
      "text/html": [
       "<div>\n",
       "<style scoped>\n",
       "    .dataframe tbody tr th:only-of-type {\n",
       "        vertical-align: middle;\n",
       "    }\n",
       "\n",
       "    .dataframe tbody tr th {\n",
       "        vertical-align: top;\n",
       "    }\n",
       "\n",
       "    .dataframe thead th {\n",
       "        text-align: right;\n",
       "    }\n",
       "</style>\n",
       "<table border=\"1\" class=\"dataframe\">\n",
       "  <thead>\n",
       "    <tr style=\"text-align: right;\">\n",
       "      <th></th>\n",
       "      <th>n</th>\n",
       "      <th>c_n</th>\n",
       "      <th>comput_time -sec-</th>\n",
       "      <th>comput_time_rapport</th>\n",
       "    </tr>\n",
       "  </thead>\n",
       "  <tbody>\n",
       "    <tr>\n",
       "      <th>0</th>\n",
       "      <td>4</td>\n",
       "      <td>244.789055</td>\n",
       "      <td>0.005540</td>\n",
       "      <td>NaN</td>\n",
       "    </tr>\n",
       "    <tr>\n",
       "      <th>1</th>\n",
       "      <td>8</td>\n",
       "      <td>247.620217</td>\n",
       "      <td>0.005834</td>\n",
       "      <td>1.053153</td>\n",
       "    </tr>\n",
       "    <tr>\n",
       "      <th>2</th>\n",
       "      <td>16</td>\n",
       "      <td>236.228489</td>\n",
       "      <td>0.004871</td>\n",
       "      <td>0.834941</td>\n",
       "    </tr>\n",
       "    <tr>\n",
       "      <th>3</th>\n",
       "      <td>32</td>\n",
       "      <td>224.837873</td>\n",
       "      <td>0.005614</td>\n",
       "      <td>1.152562</td>\n",
       "    </tr>\n",
       "    <tr>\n",
       "      <th>4</th>\n",
       "      <td>64</td>\n",
       "      <td>215.948954</td>\n",
       "      <td>0.009873</td>\n",
       "      <td>1.758578</td>\n",
       "    </tr>\n",
       "    <tr>\n",
       "      <th>5</th>\n",
       "      <td>128</td>\n",
       "      <td>209.595284</td>\n",
       "      <td>0.018452</td>\n",
       "      <td>1.868924</td>\n",
       "    </tr>\n",
       "    <tr>\n",
       "      <th>6</th>\n",
       "      <td>256</td>\n",
       "      <td>205.598250</td>\n",
       "      <td>0.059347</td>\n",
       "      <td>3.216283</td>\n",
       "    </tr>\n",
       "    <tr>\n",
       "      <th>7</th>\n",
       "      <td>512</td>\n",
       "      <td>202.148404</td>\n",
       "      <td>0.221983</td>\n",
       "      <td>3.740396</td>\n",
       "    </tr>\n",
       "    <tr>\n",
       "      <th>8</th>\n",
       "      <td>1024</td>\n",
       "      <td>199.883079</td>\n",
       "      <td>0.862326</td>\n",
       "      <td>3.884654</td>\n",
       "    </tr>\n",
       "    <tr>\n",
       "      <th>9</th>\n",
       "      <td>2048</td>\n",
       "      <td>198.677258</td>\n",
       "      <td>3.469351</td>\n",
       "      <td>4.023247</td>\n",
       "    </tr>\n",
       "    <tr>\n",
       "      <th>10</th>\n",
       "      <td>4096</td>\n",
       "      <td>197.780231</td>\n",
       "      <td>14.281353</td>\n",
       "      <td>4.116433</td>\n",
       "    </tr>\n",
       "    <tr>\n",
       "      <th>11</th>\n",
       "      <td>8192</td>\n",
       "      <td>197.255466</td>\n",
       "      <td>57.106588</td>\n",
       "      <td>3.998682</td>\n",
       "    </tr>\n",
       "    <tr>\n",
       "      <th>12</th>\n",
       "      <td>16384</td>\n",
       "      <td>196.916654</td>\n",
       "      <td>227.248170</td>\n",
       "      <td>3.979369</td>\n",
       "    </tr>\n",
       "    <tr>\n",
       "      <th>13</th>\n",
       "      <td>32768</td>\n",
       "      <td>196.699728</td>\n",
       "      <td>926.553653</td>\n",
       "      <td>4.077277</td>\n",
       "    </tr>\n",
       "    <tr>\n",
       "      <th>14</th>\n",
       "      <td>65536</td>\n",
       "      <td>196.555097</td>\n",
       "      <td>3687.706343</td>\n",
       "      <td>3.980025</td>\n",
       "    </tr>\n",
       "    <tr>\n",
       "      <th>15</th>\n",
       "      <td>131072</td>\n",
       "      <td>196.510382</td>\n",
       "      <td>14858.320412</td>\n",
       "      <td>4.029150</td>\n",
       "    </tr>\n",
       "  </tbody>\n",
       "</table>\n",
       "</div>"
      ],
      "text/plain": [
       "         n         c_n  comput_time -sec-  comput_time_rapport\n",
       "0        4  244.789055           0.005540                  NaN\n",
       "1        8  247.620217           0.005834             1.053153\n",
       "2       16  236.228489           0.004871             0.834941\n",
       "3       32  224.837873           0.005614             1.152562\n",
       "4       64  215.948954           0.009873             1.758578\n",
       "5      128  209.595284           0.018452             1.868924\n",
       "6      256  205.598250           0.059347             3.216283\n",
       "7      512  202.148404           0.221983             3.740396\n",
       "8     1024  199.883079           0.862326             3.884654\n",
       "9     2048  198.677258           3.469351             4.023247\n",
       "10    4096  197.780231          14.281353             4.116433\n",
       "11    8192  197.255466          57.106588             3.998682\n",
       "12   16384  196.916654         227.248170             3.979369\n",
       "13   32768  196.699728         926.553653             4.077277\n",
       "14   65536  196.555097        3687.706343             3.980025\n",
       "15  131072  196.510382       14858.320412             4.029150"
      ]
     },
     "execution_count": 20,
     "metadata": {},
     "output_type": "execute_result"
    }
   ],
   "source": [
    "final = pd.read_csv('up_to_4096times8.csv')\n",
    "final.set_index('n')\n",
    "final"
   ]
  },
  {
   "cell_type": "code",
   "execution_count": 21,
   "metadata": {},
   "outputs": [
    {
     "data": {
      "image/png": "[encoded data removed]",
      "text/plain": [
       "<Figure size 936x576 with 1 Axes>"
      ]
     },
     "metadata": {
      "needs_background": "light"
     },
     "output_type": "display_data"
    }
   ],
   "source": [
    "plot = final['c_n'].plot( marker=\"o\")\n",
    "fig = plot.get_figure()\n",
    "\n",
    "fig.set_size_inches(13, 8)\n",
    "fig.suptitle('f(n) = c_1^n', fontsize=30)    # SET BIG TITLE\n",
    "plot.set_xlabel('n', fontsize=18)\n",
    "plot.set_ylabel('c_1^n', fontsize=16)\n",
    "fig.savefig('c_1^n', dpi=200)\n"
   ]
  },
  {
   "cell_type": "code",
   "execution_count": 22,
   "metadata": {},
   "outputs": [],
   "source": [
    "final = final.reset_index()\n",
    "final['log(n) '] = np.log(final['n'])\n",
    "\n",
    "cref = 196.510382\n",
    "\n",
    "final['cn-cref'] = final['c_n'] - cref\n",
    "\n",
    "final['log(cn-cref) '] = np.log(final['cn-cref'])\n",
    "\n",
    "final_log = final.iloc[:-1].set_index('log(n) ')"
   ]
  },
  {
   "cell_type": "code",
   "execution_count": 27,
   "metadata": {
    "scrolled": true
   },
   "outputs": [
    {
     "data": {
      "image/png": "[encoded data removed]",
      "text/plain": [
       "<Figure size 936x576 with 1 Axes>"
      ]
     },
     "metadata": {
      "needs_background": "light"
     },
     "output_type": "display_data"
    }
   ],
   "source": [
    "plot = final_log['log(cn-cref) '].plot(marker=\"o\")\n",
    "\n",
    "fig = plot.get_figure()\n",
    "\n",
    "fig.set_size_inches(13, 8)\n",
    "fig.suptitle('log-log', fontsize=30)    # SET BIG TITLE\n",
    "plot.set_xlabel('log(n) ', fontsize=18)\n",
    "plot.set_ylabel('log(c_1^n-c_1^ref) ', fontsize=16)\n",
    "fig.savefig('c_1log', dpi=200)"
   ]
  },
  {
   "cell_type": "markdown",
   "metadata": {},
   "source": [
    "## Linear Regression"
   ]
  },
  {
   "cell_type": "code",
   "execution_count": 28,
   "metadata": {},
   "outputs": [],
   "source": [
    "from sklearn.linear_model import LinearRegression\n",
    "\n",
    "x = final_log.index.values\n",
    "y = final_log['log(cn-cref) ']\n",
    "\n",
    "x = x.reshape(-1,1)\n",
    "\n",
    "reg = LinearRegression().fit(x, y.values)"
   ]
  },
  {
   "cell_type": "code",
   "execution_count": 29,
   "metadata": {},
   "outputs": [
    {
     "data": {
      "text/plain": [
       "array([-0.68382593])"
      ]
     },
     "execution_count": 29,
     "metadata": {},
     "output_type": "execute_result"
    }
   ],
   "source": [
    "reg.coef_"
   ]
  },
  {
   "cell_type": "code",
   "execution_count": 30,
   "metadata": {},
   "outputs": [
    {
     "data": {
      "text/plain": [
       "0.31617407"
      ]
     },
     "execution_count": 30,
     "metadata": {},
     "output_type": "execute_result"
    }
   ],
   "source": [
    "beta = 1 -0.68382593\n",
    "beta"
   ]
  },
  {
   "cell_type": "markdown",
   "metadata": {},
   "source": [
    "# Computational Times"
   ]
  },
  {
   "cell_type": "code",
   "execution_count": 41,
   "metadata": {},
   "outputs": [],
   "source": [
    "comput_times = final.set_index('n')['comput_time -sec-']"
   ]
  },
  {
   "cell_type": "code",
   "execution_count": 44,
   "metadata": {},
   "outputs": [],
   "source": [
    "comput_times = comput_times.reset_index()"
   ]
  },
  {
   "cell_type": "code",
   "execution_count": 47,
   "metadata": {},
   "outputs": [],
   "source": [
    "comput_times['logn'] = np.log(comput_times['n'])\n",
    "comput_times['logcomp'] = np.log(comput_times['comput_time -sec-'])"
   ]
  },
  {
   "cell_type": "code",
   "execution_count": 52,
   "metadata": {},
   "outputs": [],
   "source": [
    "comput_times = comput_times.set_index('logn')['logcomp']"
   ]
  },
  {
   "cell_type": "code",
   "execution_count": 67,
   "metadata": {},
   "outputs": [
    {
     "data": {
      "image/png": "[encoded data removed]",
      "text/plain": [
       "<Figure size 936x576 with 1 Axes>"
      ]
     },
     "metadata": {
      "needs_background": "light"
     },
     "output_type": "display_data"
    }
   ],
   "source": [
    "plot = comput_times.plot(marker= \"o\")\n",
    "\n",
    "fig = plot.get_figure()\n",
    "\n",
    "fig.set_size_inches(13, 8)\n",
    "fig.suptitle('log-log', fontsize=30)    # SET BIG TITLE\n",
    "plot.set_xlabel('log(n) ', fontsize=18)\n",
    "plot.set_ylabel('log(comptime) ', fontsize=16)\n",
    "fig.savefig('comp_times', dpi=200)"
   ]
  },
  {
   "cell_type": "code",
   "execution_count": 54,
   "metadata": {},
   "outputs": [
    {
     "data": {
      "text/plain": [
       "array([-5.19582293, -5.14403482, -5.32442934, -5.1824418 , -4.61793615,\n",
       "       -3.99257344, -2.82434712, -1.50515575, -0.14812172,  1.24396763,\n",
       "        2.65895467,  4.04491949,  5.42604268,  6.83147195,  8.21275996,\n",
       "        9.60631528])"
      ]
     },
     "execution_count": 54,
     "metadata": {},
     "output_type": "execute_result"
    }
   ],
   "source": [
    "comput_times.values"
   ]
  },
  {
   "cell_type": "code",
   "execution_count": 64,
   "metadata": {},
   "outputs": [],
   "source": [
    "\n",
    "\n",
    "x = comput_times.index.values[6:]\n",
    "y = comput_times.values[6:]\n",
    "\n",
    "x = x.reshape(-1,1)\n",
    "\n",
    "reg = LinearRegression().fit(x, y)"
   ]
  },
  {
   "cell_type": "code",
   "execution_count": 65,
   "metadata": {},
   "outputs": [
    {
     "data": {
      "text/plain": [
       "array([1.99993845])"
      ]
     },
     "execution_count": 65,
     "metadata": {},
     "output_type": "execute_result"
    }
   ],
   "source": [
    "reg.coef_"
   ]
  },
  {
   "cell_type": "code",
   "execution_count": null,
   "metadata": {},
   "outputs": [],
   "source": []
  }
 ],
 "metadata": {
  "kernelspec": {
   "display_name": "Python 3",
   "language": "python",
   "name": "python3"
  },
  "language_info": {
   "codemirror_mode": {
    "name": "ipython",
    "version": 3
   },
   "file_extension": ".py",
   "mimetype": "text/x-python",
   "name": "python",
   "nbconvert_exporter": "python",
   "pygments_lexer": "ipython3",
   "version": "3.7.0"
  }
 },
 "nbformat": 4,
 "nbformat_minor": 4
}

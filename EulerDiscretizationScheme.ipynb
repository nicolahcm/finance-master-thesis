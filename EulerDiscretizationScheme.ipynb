{
 "cells": [
  {
   "cell_type": "code",
   "execution_count": 1,
   "metadata": {},
   "outputs": [],
   "source": [
    "import pandas as pd\n",
    "import numpy as np\n",
    "import math"
   ]
  },
  {
   "cell_type": "markdown",
   "metadata": {},
   "source": [
    "# This has, at the end Euler Discretization Scheme. Note that if n is too big we cannot compute more psi**n.."
   ]
  },
  {
   "cell_type": "markdown",
   "metadata": {},
   "source": [
    "### Set Free Parameters\n",
    "\n",
    "Note this is a particular case. We chose epsilon high, and r_max low, because the coefficients are increasing. And after some point, python cannot compute them anymore as they go to inf. That's why r_max is low and epsilon high"
   ]
  },
  {
   "cell_type": "code",
   "execution_count": 2,
   "metadata": {},
   "outputs": [],
   "source": [
    "alpha = 0.64\n",
    "lambd = 0.045\n",
    "mu = -64.938\n",
    "nu = 44850\n",
    "\n",
    "# error measures\n",
    "epsilon = 0.01\n",
    "theta = 0.9\n",
    "\n",
    "# Let's set r_max, so that we compute the first r_max coefficients\n",
    "r_max = 105"
   ]
  },
  {
   "cell_type": "markdown",
   "metadata": {},
   "source": [
    "### This function returns the list of coefficients"
   ]
  },
  {
   "cell_type": "code",
   "execution_count": 3,
   "metadata": {},
   "outputs": [],
   "source": [
    "def returns_all_the_first_r_max_coefficients_as_list_2():\n",
    "    ''' Run this function. This returns the list of coefficients. Up to a_k where \n",
    "        k= r_max. '''\n",
    "    \n",
    "    coefficients = [np.nan]*(r_max+1)\n",
    "\n",
    "    a0 = 0 \n",
    "    a1 = nu/math.gamma(alpha+1)\n",
    "    coefficients[0] = a0\n",
    "    coefficients[1] = a1\n",
    "    \n",
    "    \n",
    "    def recursive_convol_coefficients(list_of_coefficients, k):\n",
    "        ''' return a*_k^2  given the first k-1 a_m coefficients. \n",
    "        k is the coefficient a^_k^2 to be returned'''\n",
    "        if k==1:\n",
    "            return 0\n",
    "        else: \n",
    "            sum = 0\n",
    "            for l in range(1,k):\n",
    "                a_l = list_of_coefficients[l]\n",
    "                a_k_l = list_of_coefficients[k-l]\n",
    "                sum += a_l*a_k_l\n",
    "            return sum\n",
    "    \n",
    "    \n",
    "    def recursive_coefficients(list_of_coefficients, n):\n",
    "        ''' Given the convoluted coefficient a_k_star_quadro, \n",
    "        Given also n, the coefficient a_n to be returned... Note that n = k+1 !!! \n",
    "        returns a_k'''\n",
    "        k = n-1 # n-1 = k\n",
    "        a_k_star_quadro = recursive_convol_coefficients(list_of_coefficients, k) \n",
    "        a_k = list_of_coefficients[k]  \n",
    "        a_n = (lambd*a_k_star_quadro + mu*a_k)*math.gamma(alpha*k + 1)/math.gamma(alpha*k + alpha + 1)\n",
    "    \n",
    "        return a_n\n",
    "\n",
    "    for i in range(2, r_max+1):\n",
    "        coefficients[i] = recursive_coefficients( coefficients, i)\n",
    "        \n",
    "    return coefficients"
   ]
  },
  {
   "cell_type": "code",
   "execution_count": 4,
   "metadata": {},
   "outputs": [],
   "source": [
    "coeff = returns_all_the_first_r_max_coefficients_as_list_2()\n",
    "#coeff"
   ]
  },
  {
   "cell_type": "code",
   "execution_count": 5,
   "metadata": {},
   "outputs": [],
   "source": [
    "### Poi posso stampare in un dataframe e metterlo nella tesi i risultati/ coefficienti"
   ]
  },
  {
   "cell_type": "code",
   "execution_count": 6,
   "metadata": {},
   "outputs": [
    {
     "data": {
      "text/plain": [
       "106"
      ]
     },
     "execution_count": 6,
     "metadata": {},
     "output_type": "execute_result"
    }
   ],
   "source": [
    "len(coeff)"
   ]
  },
  {
   "cell_type": "markdown",
   "metadata": {},
   "source": [
    "### Estimating the radius of convergence"
   ]
  },
  {
   "cell_type": "code",
   "execution_count": 7,
   "metadata": {},
   "outputs": [
    {
     "data": {
      "text/plain": [
       "[0,\n",
       " 49908.63825019739,\n",
       " -2526168.49765926,\n",
       " 171156902.79903755,\n",
       " -11759410387.448359,\n",
       " 833447026407.5328,\n",
       " -59813815747460.98,\n",
       " 4336247356042030.0,\n",
       " -3.1654011376415597e+17,\n",
       " 2.3231513131948233e+19,\n",
       " -1.7122050814148658e+21,\n",
       " 1.2662502615581227e+23,\n",
       " -9.390997549342587e+24,\n",
       " 6.981327468579524e+26,\n",
       " -5.200522353392615e+28,\n",
       " 3.8807746264369966e+30,\n",
       " -2.900382602002485e+32,\n",
       " 2.1705910640687934e+34,\n",
       " -1.626374423083672e+36,\n",
       " 1.2199089908267428e+38,\n",
       " -9.159077004189285e+39,\n",
       " 6.882610438744826e+41,\n",
       " -5.1760353738948835e+43,\n",
       " 3.895415512596904e+45,\n",
       " -2.933570885054929e+47,\n",
       " 2.2105612232829835e+49,\n",
       " -1.6666763759519788e+51,\n",
       " 1.2572587767662316e+53,\n",
       " -9.488697153527443e+54,\n",
       " 7.164444797559e+56,\n",
       " -5.411772490603148e+58,\n",
       " 4.0894585665566055e+60,\n",
       " -3.091368310257949e+62,\n",
       " 2.3376779636606238e+64,\n",
       " -1.7683116338005e+66,\n",
       " 1.3380275882469078e+68,\n",
       " -1.0127356596773097e+70,\n",
       " 7.667347295903905e+71,\n",
       " -5.806386384562749e+73,\n",
       " 4.398177385634618e+75,\n",
       " -3.332270450313811e+77,\n",
       " 2.5252449200088737e+79,\n",
       " -1.9140706264823877e+81,\n",
       " 1.45110669083718e+83,\n",
       " -1.1003318914722378e+85,\n",
       " 8.34501896468654e+86,\n",
       " -6.3300446091296325e+88,\n",
       " 4.802405119277214e+90,\n",
       " -3.6440167443291624e+92,\n",
       " 2.765467993027608e+94,\n",
       " -2.0990410698478857e+96,\n",
       " 1.593436444589892e+98,\n",
       " -1.2097836055251725e+100,\n",
       " 9.186234886476495e+101,\n",
       " -6.9762524325140695e+103,\n",
       " 5.298581532202527e+105,\n",
       " -4.024833878470837e+107,\n",
       " 3.0576333926981565e+109,\n",
       " -2.323112720192603e+111,\n",
       " 1.765228618454737e+113,\n",
       " -1.3414543985107321e+115,\n",
       " 1.0195151661133207e+117,\n",
       " -7.749129280287396e+118,\n",
       " 5.890501124205779e+120,\n",
       " -4.478065537008094e+122,\n",
       " 3.4046017232287367e+124,\n",
       " -2.5886820248754943e+126,\n",
       " 1.9684597257209916e+128,\n",
       " -1.4969550080674506e+130,\n",
       " 1.138477236688948e+132,\n",
       " -8.659092723266398e+133,\n",
       " 6.58645832958405e+135,\n",
       " -5.01028176101193e+137,\n",
       " 3.8115546692394356e+139,\n",
       " -2.8998207446017432e+141,\n",
       " 2.206319344990667e+143,\n",
       " -1.6787772344077245e+145,\n",
       " 1.2774518295393487e+147,\n",
       " -9.721249063647203e+148,\n",
       " 7.398182199049514e+150,\n",
       " -5.6305750847885215e+152,\n",
       " 4.285531110413752e+154,\n",
       " -3.2619712304251237e+156,\n",
       " 2.4830107975533114e+158,\n",
       " -1.890164268236386e+160,\n",
       " 1.4389391204983104e+162,\n",
       " -1.0954856938948004e+164,\n",
       " 8.3404969429607e+165,\n",
       " -6.350349020222579e+167,\n",
       " 4.835298092717133e+169,\n",
       " -3.681870057257779e+171,\n",
       " 2.803707973376681e+173,\n",
       " -2.13508808128452e+175,\n",
       " 1.6259871644537498e+177,\n",
       " -1.2383298374160981e+179,\n",
       " 9.431333278809317e+180,\n",
       " -7.183349733586514e+182,\n",
       " 5.471390866844513e+184,\n",
       " -4.1675895278312097e+186,\n",
       " 3.174594570633611e+188,\n",
       " -2.418284606677419e+190,\n",
       " 1.8422223696028274e+192,\n",
       " -1.4034336498246621e+194,\n",
       " 1.069194257396666e+196,\n",
       " -8.145841612134277e+197,\n",
       " 6.206255324614902e+199]"
      ]
     },
     "execution_count": 7,
     "metadata": {},
     "output_type": "execute_result"
    }
   ],
   "source": [
    "coeff"
   ]
  },
  {
   "cell_type": "code",
   "execution_count": 8,
   "metadata": {},
   "outputs": [
    {
     "data": {
      "text/plain": [
       "0.0010881915196240175"
      ]
     },
     "execution_count": 8,
     "metadata": {},
     "output_type": "execute_result"
    }
   ],
   "source": [
    "a_r_max = coeff[-1]\n",
    "a_primo_r_max = a_r_max*math.gamma(alpha*r_max+1)/(math.gamma(alpha*r_max-alpha+1)*(alpha*r_max+1-alpha))\n",
    "\n",
    "R_estimate = abs(a_primo_r_max)**(-1/(alpha*r_max))\n",
    "R_estimate"
   ]
  },
  {
   "cell_type": "code",
   "execution_count": 9,
   "metadata": {
    "scrolled": true
   },
   "outputs": [
    {
     "data": {
      "text/plain": [
       "0.003968253968253968"
      ]
     },
     "execution_count": 9,
     "metadata": {},
     "output_type": "execute_result"
    }
   ],
   "source": [
    "T = 1/252  ## We will need to use the hybrid, since t= 1/252 è più grande di R_estimate!!\n",
    "T"
   ]
  },
  {
   "cell_type": "markdown",
   "metadata": {},
   "source": [
    "### Computing where should we truncate"
   ]
  },
  {
   "cell_type": "code",
   "execution_count": 10,
   "metadata": {},
   "outputs": [
    {
     "data": {
      "text/plain": [
       "102"
      ]
     },
     "execution_count": 10,
     "metadata": {},
     "output_type": "execute_result"
    }
   ],
   "source": [
    "r_0 = math.log(epsilon*(1-theta))/alpha/math.log(theta)-1\n",
    "r_0 = int(np.round(r_0)+1)\n",
    "r_0            ### Hey but this r_0 is independent by n. In fact,\n",
    "               # We should be fix first n, then compute theta_n(n) (defined below),\n",
    "               # Only then we can compute r_0, and therefore the truncated coefficients!!!"
   ]
  },
  {
   "cell_type": "code",
   "execution_count": 11,
   "metadata": {},
   "outputs": [],
   "source": [
    "slicing = slice(0,r_0)\n",
    "\n",
    "coeff_truncated = coeff[slicing]"
   ]
  },
  {
   "cell_type": "markdown",
   "metadata": {},
   "source": [
    "## Euler Scheme"
   ]
  },
  {
   "cell_type": "code",
   "execution_count": 12,
   "metadata": {},
   "outputs": [],
   "source": [
    "### We use the theta function defined in 4.6"
   ]
  },
  {
   "cell_type": "code",
   "execution_count": 13,
   "metadata": {},
   "outputs": [],
   "source": [
    "def theta_n(n):\n",
    "    ''' Theta in function of n '''\n",
    "    if n<16:\n",
    "        return 0.5\n",
    "    if n<32:\n",
    "        return 0.65\n",
    "    if n>4096:\n",
    "        return 0.925\n",
    "    else:\n",
    "        return min(0.65+ 0.3*((n-32)/4064)**0.25  ,0.925)"
   ]
  },
  {
   "cell_type": "markdown",
   "metadata": {},
   "source": [
    "For convenience we will compute r_0 with a theta fixed (theta = 0.9). Why this?\n",
    " Because the value of r_0 changes basing on theta. And, as we observed, if r_0 is too big,\n",
    "It might be that we don't have enough coefficients. Since in this case the coefficients go to infinity,\n",
    " We want to be sure we stay below the threshold. So we use a theta fixed, even for different n's values!"
   ]
  },
  {
   "cell_type": "code",
   "execution_count": 14,
   "metadata": {},
   "outputs": [
    {
     "data": {
      "text/plain": [
       "11.401827625012281"
      ]
     },
     "execution_count": 14,
     "metadata": {},
     "output_type": "execute_result"
    }
   ],
   "source": [
    "def poly(lst, x):   \n",
    "    ''' Evaluate the polynomial with coefficients lst= [a0,a1,a2,...] in x\n",
    "    Pol: a0 + a1*x**alpha + a2*x**(2*alpha) + .... '''\n",
    "    n, tmp = 0, 0\n",
    "    for a in lst:\n",
    "        tmp = tmp + (a * (x**(n*alpha)))\n",
    "        n += 1\n",
    "\n",
    "    return tmp\n",
    "\n",
    "poly([1,2,3], 2)  # 1 + 2*2 + 3*4 "
   ]
  },
  {
   "cell_type": "code",
   "execution_count": 18,
   "metadata": {},
   "outputs": [],
   "source": [
    "def computing_psi_n(n):\n",
    "    ''' Just Give n. This function makes use of the parameters. Then also of the list \"coeff_truncated\" \n",
    "    '''\n",
    "    \n",
    "    disc_times = [k*T/n for k in range(0,n+1)]\n",
    "    \n",
    "    theta = theta_n(n)\n",
    "    \n",
    "    \n",
    "    \n",
    "    k_0 = math.floor(R_estimate*theta*n/T)  ### Up to t_k_0 we will use truncated series. Then Euler Schema\n",
    "    \n",
    "    t_k_0 = disc_times[k_0]\n",
    "    \n",
    "    \n",
    "    values_assumed_in_disc_times = [np.nan]*(n+1)\n",
    "    \n",
    "    \n",
    "    ### Here We Evaluate The Truncated Series!\n",
    "    for k in range(0,k_0+1):\n",
    "        values_assumed_in_disc_times[k] = poly(coeff_truncated, disc_times[k])\n",
    "    \n",
    "    \n",
    "    ### Here Instead We Use The Euler Scheme\n",
    "    def compute_c_i(alpha, l):\n",
    "        if l == 0:\n",
    "            return 1\n",
    "        else: \n",
    "            return (l+1)**alpha - l**alpha\n",
    "    \n",
    "    \n",
    "    \n",
    "    for k in range(k_0+1, n+1):\n",
    "        factor_1 = 1/math.gamma(alpha + 1)*(T/n)**alpha\n",
    "        addend_2 = nu*k**alpha \n",
    "        addend_3 = 0\n",
    "        for l in range(1,k):\n",
    "            psi_n_t_l = values_assumed_in_disc_times[l]\n",
    "            addend_3 += compute_c_i(alpha, k-l-1)*psi_n_t_l*(lambd*psi_n_t_l + mu)\n",
    "        \n",
    "        factor_2 = addend_2 + addend_3\n",
    "        \n",
    "        result = factor_1*factor_2\n",
    "        \n",
    "        values_assumed_in_disc_times[k] = result\n",
    "            \n",
    "    \n",
    "    print(\"t_k0=\", t_k_0)\n",
    "    \n",
    "    #return disc_times, values_assumed_in_disc_times\n",
    "    return pd.DataFrame({\"time\": disc_times, \"value\": values_assumed_in_disc_times})\n",
    "    "
   ]
  },
  {
   "cell_type": "code",
   "execution_count": 19,
   "metadata": {
    "scrolled": true
   },
   "outputs": [
    {
     "name": "stdout",
     "output_type": "stream",
     "text": [
      "t_k0= 0.0008060515873015873\n"
     ]
    },
    {
     "data": {
      "text/plain": [
       "<matplotlib.axes._subplots.AxesSubplot at 0x7fd122f45668>"
      ]
     },
     "execution_count": 19,
     "metadata": {},
     "output_type": "execute_result"
    },
    {
     "data": {
      "image/png": "[encoded data removed]",
      "text/plain": [
       "<Figure size 432x288 with 1 Axes>"
      ]
     },
     "metadata": {
      "needs_background": "light"
     },
     "output_type": "display_data"
    }
   ],
   "source": [
    "computing_psi_n(128).set_index('time').plot()"
   ]
  },
  {
   "cell_type": "code",
   "execution_count": 20,
   "metadata": {},
   "outputs": [],
   "source": [
    "def c_1(n):\n",
    "    return 2*n*(computing_psi_n(n).iloc[-1].value - computing_psi_n(2*n).iloc[-1].value)"
   ]
  },
  {
   "cell_type": "code",
   "execution_count": 21,
   "metadata": {},
   "outputs": [
    {
     "name": "stdout",
     "output_type": "stream",
     "text": [
      "t_k0= 0.000980437748015873\n",
      "t_k0= 0.0010056268601190475\n"
     ]
    },
    {
     "data": {
      "text/plain": [
       "197.72918934142217"
      ]
     },
     "execution_count": 21,
     "metadata": {},
     "output_type": "execute_result"
    }
   ],
   "source": [
    "c_1(2048)"
   ]
  },
  {
   "cell_type": "code",
   "execution_count": null,
   "metadata": {},
   "outputs": [],
   "source": [
    "c_1(4096*16) ## Is taking more that 61 minutes!! # I interrupted it!! Too long!!"
   ]
  },
  {
   "cell_type": "code",
   "execution_count": null,
   "metadata": {},
   "outputs": [],
   "source": []
  }
 ],
 "metadata": {
  "kernelspec": {
   "display_name": "Python 3",
   "language": "python",
   "name": "python3"
  },
  "language_info": {
   "codemirror_mode": {
    "name": "ipython",
    "version": 3
   },
   "file_extension": ".py",
   "mimetype": "text/x-python",
   "name": "python",
   "nbconvert_exporter": "python",
   "pygments_lexer": "ipython3",
   "version": "3.7.0"
  }
 },
 "nbformat": 4,
 "nbformat_minor": 4
}

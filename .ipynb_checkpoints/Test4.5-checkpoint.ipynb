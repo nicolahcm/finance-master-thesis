{
 "cells": [
  {
   "cell_type": "code",
   "execution_count": 2,
   "metadata": {},
   "outputs": [],
   "source": [
    "import pandas as pd\n",
    "import numpy as np\n",
    "import math"
   ]
  },
  {
   "cell_type": "markdown",
   "metadata": {},
   "source": [
    "# This has, at the end Euler Discretization Scheme. Note that if n is too big we cannot compute more psi**n.."
   ]
  },
  {
   "cell_type": "markdown",
   "metadata": {},
   "source": [
    "### Set Free Parameters\n",
    "\n",
    "Note this is a particular case. We chose epsilon high, and r_max low, because the coefficients are increasing. And after some point, python cannot compute them anymore as they go to inf. That's why r_max is low and epsilon high"
   ]
  },
  {
   "cell_type": "code",
   "execution_count": 81,
   "metadata": {},
   "outputs": [],
   "source": [
    "alpha = 0.64\n",
    "lambd = 0.045\n",
    "mu = -64.938\n",
    "nu = 44850\n",
    "\n",
    "# error measures\n",
    "epsilon = 0.01\n",
    "theta = 0.9\n",
    "\n",
    "# Let's set r_max, so that we compute the first r_max coefficients\n",
    "r_max = 105"
   ]
  },
  {
   "cell_type": "markdown",
   "metadata": {},
   "source": [
    "### This function returns the list of coefficients"
   ]
  },
  {
   "cell_type": "code",
   "execution_count": 82,
   "metadata": {},
   "outputs": [],
   "source": [
    "def returns_all_the_first_r_max_coefficients_as_list_2():\n",
    "    ''' Run this function. This returns the list of coefficients. Up to a_k where \n",
    "        k= r_max. '''\n",
    "    \n",
    "    coefficients = [np.nan]*(r_max+1)\n",
    "\n",
    "    a0 = 0 \n",
    "    a1 = nu/math.gamma(alpha+1)\n",
    "    coefficients[0] = a0\n",
    "    coefficients[1] = a1\n",
    "    \n",
    "    \n",
    "    def recursive_convol_coefficients(list_of_coefficients, k):\n",
    "        ''' return a*_k^2  given the first k-1 a_m coefficients. \n",
    "        k is the coefficient a^_k^2 to be returned'''\n",
    "        if k==1:\n",
    "            return 0\n",
    "        else: \n",
    "            sum = 0\n",
    "            for l in range(1,k):\n",
    "                a_l = list_of_coefficients[l]\n",
    "                a_k_l = list_of_coefficients[k-l]\n",
    "                sum += a_l*a_k_l\n",
    "            return sum\n",
    "    \n",
    "    \n",
    "    def recursive_coefficients(list_of_coefficients, n):\n",
    "        ''' Given the convoluted coefficient a_k_star_quadro, \n",
    "        Given also n, the coefficient a_n to be returned... Note that n = k+1 !!! \n",
    "        returns a_k'''\n",
    "        k = n-1 # n-1 = k\n",
    "        a_k_star_quadro = recursive_convol_coefficients(list_of_coefficients, k) \n",
    "        a_k = list_of_coefficients[k]  \n",
    "        a_n = (lambd*a_k_star_quadro + mu*a_k)*math.gamma(alpha*k + 1)/math.gamma(alpha*k + alpha + 1)\n",
    "    \n",
    "        return a_n\n",
    "\n",
    "    for i in range(2, r_max+1):\n",
    "        coefficients[i] = recursive_coefficients( coefficients, i)\n",
    "        \n",
    "    return coefficients"
   ]
  },
  {
   "cell_type": "code",
   "execution_count": 83,
   "metadata": {},
   "outputs": [],
   "source": [
    "coeff = returns_all_the_first_r_max_coefficients_as_list_2()\n",
    "#coeff"
   ]
  },
  {
   "cell_type": "code",
   "execution_count": 84,
   "metadata": {},
   "outputs": [],
   "source": [
    "### Poi posso stampare in un dataframe e metterlo nella tesi i risultati/ coefficienti"
   ]
  },
  {
   "cell_type": "code",
   "execution_count": 85,
   "metadata": {},
   "outputs": [
    {
     "data": {
      "text/plain": [
       "106"
      ]
     },
     "execution_count": 85,
     "metadata": {},
     "output_type": "execute_result"
    }
   ],
   "source": [
    "len(coeff)"
   ]
  },
  {
   "cell_type": "markdown",
   "metadata": {},
   "source": [
    "### Estimating the radius of convergence"
   ]
  },
  {
   "cell_type": "code",
   "execution_count": 86,
   "metadata": {},
   "outputs": [
    {
     "data": {
      "text/plain": [
       "[0,\n",
       " 49908.63825019739,\n",
       " -2526168.49765926,\n",
       " 171156902.79903755,\n",
       " -11759410387.448359,\n",
       " 833447026407.5328,\n",
       " -59813815747460.98,\n",
       " 4336247356042030.0,\n",
       " -3.1654011376415597e+17,\n",
       " 2.3231513131948233e+19,\n",
       " -1.7122050814148658e+21,\n",
       " 1.2662502615581227e+23,\n",
       " -9.390997549342587e+24,\n",
       " 6.981327468579524e+26,\n",
       " -5.200522353392615e+28,\n",
       " 3.8807746264369966e+30,\n",
       " -2.900382602002485e+32,\n",
       " 2.1705910640687934e+34,\n",
       " -1.626374423083672e+36,\n",
       " 1.2199089908267428e+38,\n",
       " -9.159077004189285e+39,\n",
       " 6.882610438744826e+41,\n",
       " -5.1760353738948835e+43,\n",
       " 3.895415512596904e+45,\n",
       " -2.933570885054929e+47,\n",
       " 2.2105612232829835e+49,\n",
       " -1.6666763759519788e+51,\n",
       " 1.2572587767662316e+53,\n",
       " -9.488697153527443e+54,\n",
       " 7.164444797559e+56,\n",
       " -5.411772490603148e+58,\n",
       " 4.0894585665566055e+60,\n",
       " -3.091368310257949e+62,\n",
       " 2.3376779636606238e+64,\n",
       " -1.7683116338005e+66,\n",
       " 1.3380275882469078e+68,\n",
       " -1.0127356596773097e+70,\n",
       " 7.667347295903905e+71,\n",
       " -5.806386384562749e+73,\n",
       " 4.398177385634618e+75,\n",
       " -3.332270450313811e+77,\n",
       " 2.5252449200088737e+79,\n",
       " -1.9140706264823877e+81,\n",
       " 1.45110669083718e+83,\n",
       " -1.1003318914722378e+85,\n",
       " 8.34501896468654e+86,\n",
       " -6.3300446091296325e+88,\n",
       " 4.802405119277214e+90,\n",
       " -3.6440167443291624e+92,\n",
       " 2.765467993027608e+94,\n",
       " -2.0990410698478857e+96,\n",
       " 1.593436444589892e+98,\n",
       " -1.2097836055251725e+100,\n",
       " 9.186234886476495e+101,\n",
       " -6.9762524325140695e+103,\n",
       " 5.298581532202527e+105,\n",
       " -4.024833878470837e+107,\n",
       " 3.0576333926981565e+109,\n",
       " -2.323112720192603e+111,\n",
       " 1.765228618454737e+113,\n",
       " -1.3414543985107321e+115,\n",
       " 1.0195151661133207e+117,\n",
       " -7.749129280287396e+118,\n",
       " 5.890501124205779e+120,\n",
       " -4.478065537008094e+122,\n",
       " 3.4046017232287367e+124,\n",
       " -2.5886820248754943e+126,\n",
       " 1.9684597257209916e+128,\n",
       " -1.4969550080674506e+130,\n",
       " 1.138477236688948e+132,\n",
       " -8.659092723266398e+133,\n",
       " 6.58645832958405e+135,\n",
       " -5.01028176101193e+137,\n",
       " 3.8115546692394356e+139,\n",
       " -2.8998207446017432e+141,\n",
       " 2.206319344990667e+143,\n",
       " -1.6787772344077245e+145,\n",
       " 1.2774518295393487e+147,\n",
       " -9.721249063647203e+148,\n",
       " 7.398182199049514e+150,\n",
       " -5.6305750847885215e+152,\n",
       " 4.285531110413752e+154,\n",
       " -3.2619712304251237e+156,\n",
       " 2.4830107975533114e+158,\n",
       " -1.890164268236386e+160,\n",
       " 1.4389391204983104e+162,\n",
       " -1.0954856938948004e+164,\n",
       " 8.3404969429607e+165,\n",
       " -6.350349020222579e+167,\n",
       " 4.835298092717133e+169,\n",
       " -3.681870057257779e+171,\n",
       " 2.803707973376681e+173,\n",
       " -2.13508808128452e+175,\n",
       " 1.6259871644537498e+177,\n",
       " -1.2383298374160981e+179,\n",
       " 9.431333278809317e+180,\n",
       " -7.183349733586514e+182,\n",
       " 5.471390866844513e+184,\n",
       " -4.1675895278312097e+186,\n",
       " 3.174594570633611e+188,\n",
       " -2.418284606677419e+190,\n",
       " 1.8422223696028274e+192,\n",
       " -1.4034336498246621e+194,\n",
       " 1.069194257396666e+196,\n",
       " -8.145841612134277e+197,\n",
       " 6.206255324614902e+199]"
      ]
     },
     "execution_count": 86,
     "metadata": {},
     "output_type": "execute_result"
    }
   ],
   "source": [
    "coeff"
   ]
  },
  {
   "cell_type": "code",
   "execution_count": 87,
   "metadata": {},
   "outputs": [
    {
     "data": {
      "text/plain": [
       "0.0010881915196240175"
      ]
     },
     "execution_count": 87,
     "metadata": {},
     "output_type": "execute_result"
    }
   ],
   "source": [
    "a_r_max = coeff[-1]\n",
    "a_primo_r_max = a_r_max*math.gamma(alpha*r_max+1)/(math.gamma(alpha*r_max-alpha+1)*(alpha*r_max+1-alpha))\n",
    "\n",
    "R_estimate = abs(a_primo_r_max)**(-1/(alpha*r_max))\n",
    "R_estimate"
   ]
  },
  {
   "cell_type": "code",
   "execution_count": 88,
   "metadata": {
    "scrolled": true
   },
   "outputs": [
    {
     "data": {
      "text/plain": [
       "0.003968253968253968"
      ]
     },
     "execution_count": 88,
     "metadata": {},
     "output_type": "execute_result"
    }
   ],
   "source": [
    "1/252  ## We will need to use the hybrid, since t= 1/252 è più grande di R_estimate!!"
   ]
  },
  {
   "cell_type": "code",
   "execution_count": 89,
   "metadata": {},
   "outputs": [],
   "source": [
    "T = 1/252"
   ]
  },
  {
   "cell_type": "code",
   "execution_count": 90,
   "metadata": {},
   "outputs": [
    {
     "data": {
      "text/plain": [
       "0.003968253968253968"
      ]
     },
     "execution_count": 90,
     "metadata": {},
     "output_type": "execute_result"
    }
   ],
   "source": [
    "T"
   ]
  },
  {
   "cell_type": "markdown",
   "metadata": {},
   "source": [
    "### Computing where should we truncate"
   ]
  },
  {
   "cell_type": "code",
   "execution_count": 91,
   "metadata": {},
   "outputs": [
    {
     "data": {
      "text/plain": [
       "102.0"
      ]
     },
     "execution_count": 91,
     "metadata": {},
     "output_type": "execute_result"
    }
   ],
   "source": [
    "r_0 = math.log(epsilon*(1-theta))/alpha/math.log(theta)-1\n",
    "r_0 = np.round(r_0)+1\n",
    "r_0"
   ]
  },
  {
   "cell_type": "code",
   "execution_count": 92,
   "metadata": {},
   "outputs": [],
   "source": [
    "slicing = slice(0,113)\n",
    "\n",
    "coeff_truncated = coeff[slicing]"
   ]
  },
  {
   "cell_type": "markdown",
   "metadata": {},
   "source": [
    "## Euler Scheme"
   ]
  },
  {
   "cell_type": "code",
   "execution_count": 93,
   "metadata": {},
   "outputs": [],
   "source": [
    "### We use the theta function defined in 4.6"
   ]
  },
  {
   "cell_type": "code",
   "execution_count": 94,
   "metadata": {},
   "outputs": [],
   "source": [
    "def theta_n(n):\n",
    "    ''' Theta in function of n '''\n",
    "    if n<16:\n",
    "        return 0.5\n",
    "    if n<32:\n",
    "        return 0.65\n",
    "    if n>4096:\n",
    "        return 0.925\n",
    "    else:\n",
    "        return min(0.65+ 0.3*((n-32)/4064)**0.25  ,0.925)"
   ]
  },
  {
   "cell_type": "code",
   "execution_count": 110,
   "metadata": {},
   "outputs": [
    {
     "data": {
      "text/plain": [
       "[0.0,\n",
       " 0.000248015873015873,\n",
       " 0.000496031746031746,\n",
       " 0.000744047619047619,\n",
       " 0.000992063492063492,\n",
       " 0.001240079365079365,\n",
       " 0.001488095238095238,\n",
       " 0.001736111111111111,\n",
       " 0.001984126984126984,\n",
       " 0.002232142857142857,\n",
       " 0.00248015873015873,\n",
       " 0.002728174603174603,\n",
       " 0.002976190476190476,\n",
       " 0.003224206349206349,\n",
       " 0.003472222222222222,\n",
       " 0.003720238095238095,\n",
       " 0.003968253968253968]"
      ]
     },
     "execution_count": 110,
     "metadata": {},
     "output_type": "execute_result"
    }
   ],
   "source": [
    "_test_cof = [k*T/16 for k in range(0,17)]\n",
    "_test_cof"
   ]
  },
  {
   "cell_type": "code",
   "execution_count": 103,
   "metadata": {
    "scrolled": true
   },
   "outputs": [
    {
     "data": {
      "text/plain": [
       "17"
      ]
     },
     "execution_count": 103,
     "metadata": {},
     "output_type": "execute_result"
    }
   ],
   "source": [
    "len([np.nan]*17)"
   ]
  },
  {
   "cell_type": "code",
   "execution_count": null,
   "metadata": {},
   "outputs": [],
   "source": [
    "def poly(lst, x):   \n",
    "    ''' Evaluate the polynomial with coefficients lst= [a0,a1,a2,...] in x\n",
    "    Pol: a0 + a1*x + a2*x**2 + .... '''\n",
    "    n, tmp = 0, 0\n",
    "    for a in lst:\n",
    "        tmp = tmp + (a * (x**n))\n",
    "        n += 1\n",
    "\n",
    "    return tmp\n",
    "\n",
    "poly([1,2,3], 2)  # 1 + 2*2 + 3*4 "
   ]
  },
  {
   "cell_type": "code",
   "execution_count": 129,
   "metadata": {},
   "outputs": [],
   "source": [
    "def computing_psi_n(n):\n",
    "    ''' Just Give n. This function makes use of the parameters. Then also of the list \"coeff_truncated\" \n",
    "    '''\n",
    "    \n",
    "    disc_times = [k*T/n for k in range(0,n+1)]\n",
    "    \n",
    "    k_0 = math.floor(R_estimate*theta*n/T)  ### Up to t_k_0 we will use truncated series. Then Euler Schema\n",
    "    \n",
    "    t_k_0 = disc_times[k_0]\n",
    "    \n",
    "    \n",
    "    values_assumed_in_disc_times = [np.nan]*(n+1)\n",
    "    \n",
    "    \n",
    "    for k in range(0,k_0+1):\n",
    "        values_assumed_in_disc_times[k] = poly(coeff_truncated, disc_times[k])\n",
    "    \n",
    "    \n",
    "    ### Ora Euler Scheme\n",
    "    def compute_c_i(alpha, l):\n",
    "        if l == 0:\n",
    "            return 1\n",
    "        else: \n",
    "            return (l+1)**alpha - l**alpha\n",
    "    \n",
    "    \n",
    "    \n",
    "    for k in range(k_0+1, n+1):\n",
    "        factor_1 = 1/math.gamma(alpha + 1)*(T/n)**alpha\n",
    "        addend_2 = nu*k**alpha \n",
    "        addend_3 = 0\n",
    "        for l in range(1,k):\n",
    "            psi_n_t_l = coeff_truncated[l]\n",
    "            addend_3 += compute_c_i(alpha, k-l-1)*psi_n_t_l*(lambd*psi_n_t_l + mu)\n",
    "        \n",
    "        factor_2 = addend_2 + addend_3\n",
    "        \n",
    "        result = factor_1*factor_2\n",
    "        \n",
    "        values_assumed_in_disc_times[k] = result\n",
    "            \n",
    "    \n",
    "    \n",
    "    return disc_times, values_assumed_in_disc_times\n",
    "    "
   ]
  },
  {
   "cell_type": "code",
   "execution_count": 136,
   "metadata": {},
   "outputs": [
    {
     "data": {
      "text/plain": [
       "([0.0,\n",
       "  6.200396825396825e-05,\n",
       "  0.0001240079365079365,\n",
       "  0.00018601190476190475,\n",
       "  0.000248015873015873,\n",
       "  0.00031001984126984125,\n",
       "  0.0003720238095238095,\n",
       "  0.00043402777777777775,\n",
       "  0.000496031746031746,\n",
       "  0.0005580357142857143,\n",
       "  0.0006200396825396825,\n",
       "  0.0006820436507936508,\n",
       "  0.000744047619047619,\n",
       "  0.0008060515873015873,\n",
       "  0.0008680555555555555,\n",
       "  0.0009300595238095238,\n",
       "  0.000992063492063492,\n",
       "  0.0010540674603174603,\n",
       "  0.0011160714285714285,\n",
       "  0.0011780753968253968,\n",
       "  0.001240079365079365,\n",
       "  0.0013020833333333333,\n",
       "  0.0013640873015873015,\n",
       "  0.0014260912698412698,\n",
       "  0.001488095238095238,\n",
       "  0.0015500992063492063,\n",
       "  0.0016121031746031745,\n",
       "  0.0016741071428571428,\n",
       "  0.001736111111111111,\n",
       "  0.0017981150793650793,\n",
       "  0.0018601190476190475,\n",
       "  0.0019221230158730158,\n",
       "  0.001984126984126984,\n",
       "  0.002046130952380952,\n",
       "  0.0021081349206349205,\n",
       "  0.002170138888888889,\n",
       "  0.002232142857142857,\n",
       "  0.002294146825396825,\n",
       "  0.0023561507936507935,\n",
       "  0.002418154761904762,\n",
       "  0.00248015873015873,\n",
       "  0.002542162698412698,\n",
       "  0.0026041666666666665,\n",
       "  0.002666170634920635,\n",
       "  0.002728174603174603,\n",
       "  0.002790178571428571,\n",
       "  0.0028521825396825395,\n",
       "  0.002914186507936508,\n",
       "  0.002976190476190476,\n",
       "  0.003038194444444444,\n",
       "  0.0031001984126984125,\n",
       "  0.003162202380952381,\n",
       "  0.003224206349206349,\n",
       "  0.003286210317460317,\n",
       "  0.0033482142857142855,\n",
       "  0.003410218253968254,\n",
       "  0.003472222222222222,\n",
       "  0.00353422619047619,\n",
       "  0.0035962301587301585,\n",
       "  0.003658234126984127,\n",
       "  0.003720238095238095,\n",
       "  0.003782242063492063,\n",
       "  0.0038442460317460315,\n",
       "  0.00390625,\n",
       "  0.003968253968253968],\n",
       " [0.0,\n",
       "  3.084862413154168,\n",
       "  6.150543542068089,\n",
       "  9.197282038396704,\n",
       "  12.22531256059696,\n",
       "  15.234865859713377,\n",
       "  18.226168862934877,\n",
       "  21.1994447549907,\n",
       "  24.15491305745117,\n",
       "  27.092789705996346,\n",
       "  30.01328712571385,\n",
       "  32.916614304484725,\n",
       "  35.8029768645144,\n",
       "  38.672577132063715,\n",
       "  41.52561420543307,\n",
       "  44.362284021251455,\n",
       "  1.5298704288152234e+57,\n",
       "  8.545318520716137e+60,\n",
       "  4.7860097304394504e+64,\n",
       "  2.6869434348133574e+68,\n",
       "  1.5117230119457832e+72,\n",
       "  8.52159122933735e+75,\n",
       "  4.811977412749259e+79,\n",
       "  2.72152047587132e+83,\n",
       "  1.5414329981072852e+87,\n",
       "  8.741987679503677e+90,\n",
       "  4.9638889828118584e+94,\n",
       "  2.821756124812835e+98,\n",
       "  1.6057067207700904e+102,\n",
       "  9.145974863899194e+105,\n",
       "  5.214130248531172e+109,\n",
       "  2.9750606244458227e+113,\n",
       "  1.698823853072313e+117,\n",
       "  9.707741331191941e+120,\n",
       "  5.551189221829657e+124,\n",
       "  3.176393117681154e+128,\n",
       "  1.8186400394386105e+132,\n",
       "  1.0418586276367391e+136,\n",
       "  5.971821739119192e+139,\n",
       "  3.4247463230396205e+143,\n",
       "  1.9649975120184043e+147,\n",
       "  1.1279685393676052e+151,\n",
       "  6.477739760363944e+154,\n",
       "  3.7216230569482372e+158,\n",
       "  2.1390214455788973e+162,\n",
       "  1.2298831019407756e+166,\n",
       "  7.074098034432421e+169,\n",
       "  4.070333033832633e+173,\n",
       "  2.3427933137407868e+177,\n",
       "  1.3488917659159668e+181,\n",
       "  7.768794535977194e+184,\n",
       "  4.475671699961831e+188,\n",
       "  2.579204812785605e+192,\n",
       "  1.4867286711026506e+196,\n",
       "  8.5721824858124e+199,\n",
       "  4.94379756585975e+203,\n",
       "  2.851908175082502e+207,\n",
       "  1.645554252761768e+211,\n",
       "  9.497014504003875e+214,\n",
       "  5.482224703392134e+218,\n",
       "  3.1653240485655414e+222,\n",
       "  1.8279658453712407e+226,\n",
       "  1.055853398799419e+230,\n",
       "  6.0998905942569055e+233,\n",
       "  3.524688257118309e+237])"
      ]
     },
     "execution_count": 136,
     "metadata": {},
     "output_type": "execute_result"
    }
   ],
   "source": [
    "computing_psi_n(64)"
   ]
  },
  {
   "cell_type": "code",
   "execution_count": null,
   "metadata": {},
   "outputs": [],
   "source": []
  }
 ],
 "metadata": {
  "kernelspec": {
   "display_name": "Python 3",
   "language": "python",
   "name": "python3"
  },
  "language_info": {
   "codemirror_mode": {
    "name": "ipython",
    "version": 3
   },
   "file_extension": ".py",
   "mimetype": "text/x-python",
   "name": "python",
   "nbconvert_exporter": "python",
   "pygments_lexer": "ipython3",
   "version": "3.7.0"
  }
 },
 "nbformat": 4,
 "nbformat_minor": 4
}
